{
 "cells": [
  {
   "cell_type": "markdown",
   "metadata": {},
   "source": [
    "# H(z) Reconstrution via Gaussian Process (GP)"
   ]
  },
  {
   "cell_type": "code",
   "execution_count": 1,
   "metadata": {},
   "outputs": [
    {
     "data": {
      "text/plain": [
       "\"from gaussian_process import GPReconstructionH\\nfrom plots_rec import HReconstructionPlot\\nfrom equations import FiducialModel\\nfrom obs_data import H_data\\n\\n# Load your data\\ndata_Hz = H_data()\\n\\nz_values, H_obs, errors = data_Hz.H_z_data()\\n\\n# Choose the GP parameters\\ngp_h = GPReconstructionH(z_values, H_obs, errors)\\ngp_h.optimize(num_restarts=10, verbose=False)\\nmean, var, mean_deriv, var_deriv = gp_h.predict()\\nz_val = gp_h.z_pred()\\n\\nimport numpy as np\\n\\n# Combine os dados em um array de duas colunas\\ndata_to_save = np.column_stack((z_val, mean))\\n\\n# Salve no arquivo .txt\\nnp.savetxt('data/H_rec_gp_data.txt', data_to_save, fmt='%.6f', header='z_val  mean', comments='')\\n\\n\\nfiducial_model = FiducialModel()\\n\\n# Plot the figure\\nplotter = HReconstructionPlot(gp_h, fiducial_model)\\nplotter.plot('Figuras/H_reconstructed.png')\""
      ]
     },
     "execution_count": 1,
     "metadata": {},
     "output_type": "execute_result"
    }
   ],
   "source": [
    "\"\"\"from gaussian_process import GPReconstructionH\n",
    "from plots_rec import HReconstructionPlot\n",
    "from equations import FiducialModel\n",
    "from obs_data import H_data\n",
    "\n",
    "# Load your data\n",
    "data_Hz = H_data()\n",
    "\n",
    "z_values, H_obs, errors = data_Hz.H_z_data()\n",
    "\n",
    "# Choose the GP parameters\n",
    "gp_h = GPReconstructionH(z_values, H_obs, errors)\n",
    "gp_h.optimize(num_restarts=10, verbose=False)\n",
    "mean, var, mean_deriv, var_deriv = gp_h.predict()\n",
    "z_val = gp_h.z_pred()\n",
    "\n",
    "import numpy as np\n",
    "\n",
    "# Combine os dados em um array de duas colunas\n",
    "data_to_save = np.column_stack((z_val, mean))\n",
    "\n",
    "# Salve no arquivo .txt\n",
    "np.savetxt('data/H_rec_gp_data.txt', data_to_save, fmt='%.6f', header='z_val  mean', comments='')\n",
    "\n",
    "\n",
    "fiducial_model = FiducialModel()\n",
    "\n",
    "# Plot the figure\n",
    "plotter = HReconstructionPlot(gp_h, fiducial_model)\n",
    "plotter.plot('Figuras/H_reconstructed.png')\"\"\""
   ]
  },
  {
   "cell_type": "markdown",
   "metadata": {},
   "source": [
    "# H(z) Reconstrution via Artificial Neural Network (ANN): ReFANN code"
   ]
  },
  {
   "cell_type": "code",
   "execution_count": 2,
   "metadata": {},
   "outputs": [
    {
     "data": {
      "text/plain": [
       "'import refann as rf\\nimport time\\nimport numpy as np\\nimport matplotlib.pyplot as plt\\n\\n# Starting the ANN\\nstart_time = time.time()\\n\\nHz = np.loadtxt(\\'data/Hz35data.txt\\', skiprows=1)\\n\\nrec = rf.ANN(Hz,mid_node=4096,hidden_layer=1,hp_model=\\'rec_2\\')\\nrec.iteration = 30000\\nrec.train()\\nfunc = rec.predict(xpoint=np.linspace(0, 2, 201))\\n#func = rec.predict(xspace=(0, 2, 201)) #or use this\\nrec.save_func(path=\\'data\\', obsName=\\'Hz35\\') #save the reconstructed function\\n\\n# rec.plot_loss()\\nrec.plot_func()\\nprint (\"Time elapsed: %.3f mins\" %((time.time()-start_time)/60))\\nplt.show()'"
      ]
     },
     "execution_count": 2,
     "metadata": {},
     "output_type": "execute_result"
    }
   ],
   "source": [
    "\"\"\"import refann as rf\n",
    "import time\n",
    "import numpy as np\n",
    "import matplotlib.pyplot as plt\n",
    "\n",
    "# Starting the ANN\n",
    "start_time = time.time()\n",
    "\n",
    "Hz = np.loadtxt('data/Hz35data.txt', skiprows=1)\n",
    "\n",
    "rec = rf.ANN(Hz,mid_node=4096,hidden_layer=1,hp_model='rec_2')\n",
    "rec.iteration = 30000\n",
    "rec.train()\n",
    "func = rec.predict(xpoint=np.linspace(0, 2, 201))\n",
    "#func = rec.predict(xspace=(0, 2, 201)) #or use this\n",
    "rec.save_func(path='data', obsName='Hz35') #save the reconstructed function\n",
    "\n",
    "# rec.plot_loss()\n",
    "rec.plot_func()\n",
    "print (\"Time elapsed: %.3f mins\" %((time.time()-start_time)/60))\n",
    "plt.show()\"\"\""
   ]
  },
  {
   "cell_type": "markdown",
   "metadata": {},
   "source": [
    "# Bayesian analysis and MCMC"
   ]
  },
  {
   "cell_type": "markdown",
   "metadata": {},
   "source": [
    "## Defining priors"
   ]
  },
  {
   "cell_type": "code",
   "execution_count": 3,
   "metadata": {},
   "outputs": [],
   "source": [
    "from likelihood import JointPriors\n",
    "\n",
    "# Defining the priors and the type of distribuition\n",
    "param_configs_w_frb = {\n",
    "    #'Omega_bh2': ((0.01,0.05), 'uniform'), \n",
    "    'Omega_bh2': ((0.02235, 0.00049), 'gaussian'),\n",
    "    'A': ((55, 225), 'uniform'),\n",
    "    'beta': ((0, 4), 'uniform')\n",
    "}\n",
    "\n",
    "P_frb = JointPriors(param_configs_w_frb)"
   ]
  },
  {
   "cell_type": "markdown",
   "metadata": {},
   "source": [
    "### Models and parameters"
   ]
  },
  {
   "cell_type": "code",
   "execution_count": 4,
   "metadata": {},
   "outputs": [],
   "source": [
    "from likelihood import JointLikelihoodFunction\n",
    "from equations import DM_EXT_model_Rec, Modulus_sne\n",
    "\n",
    "model = DM_EXT_model_Rec()\n",
    "mu_wCDM = Modulus_sne()\n",
    "\n",
    "# Creating an instance of JointLikelihoodFunction\n",
    "LF_gp_frb = JointLikelihoodFunction(\n",
    "    { 'FRB': lambda z, Omega_bh2, A, beta: model.DM_ext_th(\n",
    "        z=z,\n",
    "        f_IGM=0.83,\n",
    "        model_type='constant',\n",
    "        Omega_bh2=Omega_bh2,     \n",
    "        A=A,\n",
    "        beta=beta,\n",
    "        rec_type='GP',\n",
    "        param=None\n",
    "    ) \n",
    "    }\n",
    ")\n",
    "\n",
    "LF_ann_frb = JointLikelihoodFunction(\n",
    "    { 'FRB': lambda z, Omega_bh2, A, beta: model.DM_ext_th(\n",
    "        z=z,\n",
    "        f_IGM=0.83,\n",
    "        model_type='constant',\n",
    "        Omega_bh2=Omega_bh2,     \n",
    "        A=A,\n",
    "        beta=beta,\n",
    "        rec_type='ANN',\n",
    "        param=None\n",
    "    ) \n",
    "    }\n",
    ")"
   ]
  },
  {
   "cell_type": "markdown",
   "metadata": {},
   "source": [
    "## Preparing the samples"
   ]
  },
  {
   "cell_type": "markdown",
   "metadata": {},
   "source": [
    "### Analysis for 66 FRBs"
   ]
  },
  {
   "cell_type": "code",
   "execution_count": 5,
   "metadata": {},
   "outputs": [],
   "source": [
    "from obs_data import FRB_data, SNe_data\n",
    "import ultranest\n",
    "\n",
    "# Instantiate the FRB_data class for 66 FRBs\n",
    "frb_data = FRB_data(n_frb=66)\n",
    "\n",
    "# Call the select_data method to get the observed data\n",
    "z_frb, DM_ext, sigma_ext = frb_data.select_data()\n",
    "\n",
    "# Instantiate the FRB_data class for 66 FRBs\n",
    "mock = FRB_data(n_frb=5000)\n",
    "\n",
    "# Call the select_data method to get the observed data\n",
    "z_mock, DM_mock, sigma_mock = mock.select_data()\n",
    "\n",
    "# sne_data_union = SNe_data(sample_sne='Union3')\n",
    "\n",
    "# z_sne_union, mu_sne_union, cov_matrix_inv_union = sne_data_union.load_data()\n",
    "\n",
    "# sne_data_pantheon = SNe_data(sample_sne='Pantheon+SH0ES')\n",
    "\n",
    "# z_sne, z_alt, mu_sne, cov_matrix_inv = sne_data_pantheon.load_data()\n",
    "\n",
    "# Configuring the ultranest samplers\n",
    "sampler_gp_frb = ultranest.ReactiveNestedSampler(\n",
    "    P_frb.param_names,\n",
    "    lambda params: LF_gp_frb.log_likelihood(\n",
    "        dict(zip(P_frb.param_names, params)),\n",
    "        {\n",
    "            'FRB': (z_frb, DM_ext, sigma_ext)\n",
    "        }\n",
    "    ),\n",
    "    P_frb.prior_transform\n",
    ")\n",
    "\n",
    "sampler_ann_frb = ultranest.ReactiveNestedSampler(\n",
    "    P_frb.param_names,\n",
    "    lambda params: LF_ann_frb.log_likelihood(\n",
    "        dict(zip(P_frb.param_names, params)),\n",
    "        {\n",
    "            'FRB': (z_frb, DM_ext, sigma_ext)\n",
    "        }\n",
    "    ),\n",
    "    P_frb.prior_transform\n",
    ")\n",
    "\n",
    "sampler_gp_frb_mock = ultranest.ReactiveNestedSampler(\n",
    "    P_frb.param_names,\n",
    "    lambda params: LF_gp_frb.log_likelihood(\n",
    "        dict(zip(P_frb.param_names, params)),\n",
    "        {\n",
    "            'FRB': (z_mock, DM_mock, sigma_mock)\n",
    "        }\n",
    "    ),\n",
    "    P_frb.prior_transform\n",
    ")\n",
    "\n",
    "sampler_ann_frb_mock = ultranest.ReactiveNestedSampler(\n",
    "    P_frb.param_names,\n",
    "    lambda params: LF_ann_frb.log_likelihood(\n",
    "        dict(zip(P_frb.param_names, params)),\n",
    "        {\n",
    "            'FRB': (z_mock, DM_mock, sigma_mock)\n",
    "        }\n",
    "    ),\n",
    "    P_frb.prior_transform\n",
    ")"
   ]
  },
  {
   "cell_type": "code",
   "execution_count": 6,
   "metadata": {},
   "outputs": [
    {
     "name": "stdout",
     "output_type": "stream",
     "text": [
      "[ultranest] Sampling 400 live points from prior ...\n"
     ]
    },
    {
     "data": {
      "application/vnd.jupyter.widget-view+json": {
       "model_id": "d6b33cefca884b7dac486cac907e7c0d",
       "version_major": 2,
       "version_minor": 0
      },
      "text/plain": [
       "VBox(children=(HTML(value=''), GridspecLayout(children=(HTML(value=\"<div style='background-color:#6E6BF4;'>&nb…"
      ]
     },
     "metadata": {},
     "output_type": "display_data"
    },
    {
     "name": "stdout",
     "output_type": "stream",
     "text": [
      "[ultranest] Explored until L=-8e+01   [-79.4774..-79.4774]*| it/evals=3143/6883 eff=48.4806% N=400 \n",
      "[ultranest] Likelihood function evaluations: 6883\n",
      "[ultranest]   logZ = -82.73 +- 0.05762\n",
      "[ultranest] Effective samples strategy satisfied (ESS = 1630.4, need >400)\n",
      "[ultranest] Posterior uncertainty strategy is satisfied (KL: 0.45+-0.05 nat, need <0.50 nat)\n",
      "[ultranest] Evidency uncertainty strategy is satisfied (dlogz=0.06, need <0.5)\n",
      "[ultranest]   logZ error budget: single: 0.07 bs:0.06 tail:0.01 total:0.06 required:<0.50\n",
      "[ultranest] done iterating.\n",
      "\n",
      "logZ = -82.712 +- 0.103\n",
      "  single instance: logZ = -82.712 +- 0.074\n",
      "  bootstrapped   : logZ = -82.726 +- 0.103\n",
      "  tail           : logZ = +- 0.010\n",
      "insert order U test : converged: True correlation: inf iterations\n",
      "\n",
      "    Omega_bh2           : 0.02065│ ▁  ▁▁▁▁▁▂▂▄▂▄▅▅▆▇▇▇▇▇▇▇▅▆▄▃▃▂▂▁▁▁▁▁▁▁ │0.02399    0.02240 +- 0.00047\n",
      "    A                   : 84    │ ▁▁▁▁▁▁▁▂▂▃▄▄▆▆▆▆▇▇▇▇▇▆▅▄▃▄▂▂▁▁▁▁▁▁▁▁▁ │181       131 +- 13\n",
      "    beta                : 0.02  │ ▁▁ ▁▁▁▁▁▁▁▁▂▃▃▃▃▄▆▆▇▇▇▇▆▇▅▄▃▂▂▁▁▁▁▁ ▁ │3.92      2.20 +- 0.48\n",
      "\n"
     ]
    }
   ],
   "source": [
    "gp_frb = sampler_gp_frb.run(min_num_live_points=400)\n",
    "sampler_gp_frb.print_results()"
   ]
  },
  {
   "cell_type": "code",
   "execution_count": 7,
   "metadata": {},
   "outputs": [
    {
     "name": "stdout",
     "output_type": "stream",
     "text": [
      "[ultranest] Sampling 400 live points from prior ...\n"
     ]
    },
    {
     "data": {
      "application/vnd.jupyter.widget-view+json": {
       "model_id": "9da1d9aa04ff486b9da8cc1354fb01ce",
       "version_major": 2,
       "version_minor": 0
      },
      "text/plain": [
       "VBox(children=(HTML(value=''), GridspecLayout(children=(HTML(value=\"<div style='background-color:#6E6BF4;'>&nb…"
      ]
     },
     "metadata": {},
     "output_type": "display_data"
    },
    {
     "name": "stdout",
     "output_type": "stream",
     "text": [
      "[ultranest] Explored until L=-8e+01   [-79.3785..-79.3785]*| it/evals=3138/7378 eff=44.9699% N=400 \n",
      "[ultranest] Likelihood function evaluations: 7378\n",
      "[ultranest]   logZ = -82.61 +- 0.05977\n",
      "[ultranest] Effective samples strategy satisfied (ESS = 1644.7, need >400)\n",
      "[ultranest] Posterior uncertainty strategy is satisfied (KL: 0.46+-0.06 nat, need <0.50 nat)\n",
      "[ultranest] Evidency uncertainty strategy is satisfied (dlogz=0.06, need <0.5)\n",
      "[ultranest]   logZ error budget: single: 0.07 bs:0.06 tail:0.01 total:0.06 required:<0.50\n",
      "[ultranest] done iterating.\n",
      "\n",
      "logZ = -82.604 +- 0.125\n",
      "  single instance: logZ = -82.604 +- 0.074\n",
      "  bootstrapped   : logZ = -82.606 +- 0.124\n",
      "  tail           : logZ = +- 0.010\n",
      "insert order U test : converged: True correlation: inf iterations\n",
      "\n",
      "    Omega_bh2           : 0.02078│ ▁ ▁▁▁▁▁▁▂▃▃▄▅▄▅▆▇▆▇▆▇▆▆▅▄▅▅▃▃▂▂▂▁▁▁▁▁ │0.02386    0.02239 +- 0.00049\n",
      "    A                   : 84    │ ▁ ▁▁▁▁▁▁▂▃▃▄▅▅▆▇▇▇▇▆▆▄▃▃▃▃▂▁▁▁▁▁▁▁ ▁▁ │186       132 +- 13\n",
      "    beta                : 0.09  │ ▁▁▁▁▁▁▁▁▁▁▁▂▂▂▃▄▄▅▆▅▇▇▇▇▆▆▅▄▃▃▂▂▁▁▁▁▁ │3.62      2.13 +- 0.49\n",
      "\n"
     ]
    }
   ],
   "source": [
    "ann_frb = sampler_ann_frb.run(min_num_live_points=400)\n",
    "sampler_ann_frb.print_results()"
   ]
  },
  {
   "cell_type": "code",
   "execution_count": 1,
   "metadata": {},
   "outputs": [
    {
     "ename": "NameError",
     "evalue": "name 'sampler_gp_frb_mock' is not defined",
     "output_type": "error",
     "traceback": [
      "\u001b[0;31m---------------------------------------------------------------------------\u001b[0m",
      "\u001b[0;31mNameError\u001b[0m                                 Traceback (most recent call last)",
      "Cell \u001b[0;32mIn[1], line 1\u001b[0m\n\u001b[0;32m----> 1\u001b[0m gp_frb_mock \u001b[38;5;241m=\u001b[39m \u001b[43msampler_gp_frb_mock\u001b[49m\u001b[38;5;241m.\u001b[39mrun(min_num_live_points\u001b[38;5;241m=\u001b[39m\u001b[38;5;241m400\u001b[39m)\n\u001b[1;32m      2\u001b[0m sampler_gp_frb_mock\u001b[38;5;241m.\u001b[39mprint_results()\n",
      "\u001b[0;31mNameError\u001b[0m: name 'sampler_gp_frb_mock' is not defined"
     ]
    }
   ],
   "source": [
    "gp_frb_mock = sampler_gp_frb_mock.run(min_num_live_points=400)\n",
    "sampler_gp_frb_mock.print_results()"
   ]
  },
  {
   "cell_type": "code",
   "execution_count": null,
   "metadata": {},
   "outputs": [],
   "source": [
    "ann_frb_mock = sampler_ann_frb_mock.run(min_num_live_points=400)\n",
    "sampler_ann_frb_mock.print_results()"
   ]
  },
  {
   "cell_type": "code",
   "execution_count": null,
   "metadata": {},
   "outputs": [],
   "source": [
    "from getdist import plots, MCSamples\n",
    "import numpy as np\n",
    "\n",
    "# Extraindo amostras dos resultados para frb\n",
    "samples_gp_frb = gp_frb['samples']\n",
    "samples_ann_frb = ann_frb['samples']\n",
    "samples_gp_frb_mock = gp_frb_mock['samples']\n",
    "samples_ann_frb_mock = ann_frb_mock['samples']\n",
    "\n",
    "labels1 = ['\\\\Omega_{b}h^2', 'A', '\\\\beta']\n",
    "names1 = P_frb.param_names\n",
    "\n",
    "# Calculando o parâmetro derivado\n",
    "derived_param_gp = 100 * np.sqrt(samples_gp_frb[:, 0] / 0.0493)\n",
    "derived_param_ann = 100 * np.sqrt(samples_ann_frb[:, 0] / 0.0493)\n",
    "derived_param_gp_mock = 100 * np.sqrt(samples_gp_frb_mock[:, 0] / 0.0493)\n",
    "derived_param_ann_mock = 100 * np.sqrt(samples_ann_frb_mock[:, 0] / 0.0493)\n",
    "\n",
    "# Adicionando o parâmetro derivado nas amostras\n",
    "samples_with_derived_gp = np.hstack([samples_gp_frb, derived_param_gp[:, None]])\n",
    "samples_with_derived_ann = np.hstack([samples_ann_frb, derived_param_ann[:, None]])\n",
    "samples_with_derived_gp_mock = np.hstack([samples_gp_frb_mock, derived_param_gp_mock[:, None]])\n",
    "samples_with_derived_ann_mock = np.hstack([samples_ann_frb_mock, derived_param_ann_mock[:, None]])\n",
    "\n",
    "names_extended = names1 + ['H0']\n",
    "labels_extended = ['\\\\Omega_{b}h^2', 'A', '\\\\beta', 'H_0']\n",
    "\n",
    "# Criando MCSamples com o parâmetro derivado\n",
    "mcsamples_gp_frb = MCSamples(samples=samples_with_derived_gp, \n",
    "                           names=names_extended, \n",
    "                           labels=labels_extended)\n",
    "\n",
    "mcsamples_ann_frb = MCSamples(samples=samples_with_derived_ann, \n",
    "                           names=names_extended, \n",
    "                           labels=labels_extended)\n",
    "\n",
    "mcsamples_gp_frb_mock = MCSamples(samples=samples_with_derived_gp_mock, \n",
    "                           names=names_extended, \n",
    "                           labels=labels_extended)\n",
    "\n",
    "mcsamples_ann_frb_mock = MCSamples(samples=samples_with_derived_ann_mock, \n",
    "                           names=names_extended, \n",
    "                           labels=labels_extended)"
   ]
  },
  {
   "cell_type": "code",
   "execution_count": null,
   "metadata": {},
   "outputs": [],
   "source": [
    "mcsamples_gp_frb.getMargeStats().saveAsText('Results_mcmc/marginalized_params_gp.txt')\n",
    "mcsamples_ann_frb.getMargeStats().saveAsText('Results_mcmc/marginalized_params_ann.txt')\n",
    "mcsamples_gp_frb_mock.getMargeStats().saveAsText('Results_mcmc/marginalized_params_gp_mock.txt')\n",
    "mcsamples_ann_frb_mock.getMargeStats().saveAsText('Results_mcmc/marginalized_params_ann_mock.txt')"
   ]
  },
  {
   "cell_type": "code",
   "execution_count": null,
   "metadata": {},
   "outputs": [],
   "source": [
    "# Plotando os Triangle plots\n",
    "g = plots.get_subplot_plotter()\n",
    "mcsamples_gp_frb.updateSettings({'smooth_scale_2D': 0.9, 'smooth_scale_1D': 0.9})\n",
    "mcsamples_ann_frb.updateSettings({'smooth_scale_2D': 0.9, 'smooth_scale_1D': 0.9})\n",
    "g.settings.num_plot_contours = 2\n",
    "g.triangle_plot([mcsamples_gp_frb, mcsamples_ann_frb], names1, filled=True, contour_colors=['blue', 'red'], \n",
    "                legend_labels=['GaPP', 'ReFANN'])\n",
    "g.export('Figuras/rec_frb_dm_host(z).png', dpi=600)"
   ]
  },
  {
   "cell_type": "code",
   "execution_count": null,
   "metadata": {},
   "outputs": [],
   "source": [
    "# Plotando os Triangle plots\n",
    "g = plots.get_subplot_plotter()\n",
    "mcsamples_gp_frb.updateSettings({'smooth_scale_2D': 0.9, 'smooth_scale_1D': 0.9})\n",
    "mcsamples_gp_frb_mock.updateSettings({'smooth_scale_2D': 0.9, 'smooth_scale_1D': 0.9})\n",
    "g.settings.num_plot_contours = 2\n",
    "g.triangle_plot([mcsamples_gp_frb, mcsamples_gp_frb_mock], names1, filled=True, contour_colors=['green', 'red'], \n",
    "                legend_labels=['FRB data', 'Mock'])\n",
    "g.export('Figuras/gapp_rec_frb_dm_host(z).png', dpi=600)"
   ]
  },
  {
   "cell_type": "code",
   "execution_count": null,
   "metadata": {},
   "outputs": [],
   "source": [
    "# Plotando os Triangle plots\n",
    "g = plots.get_subplot_plotter()\n",
    "mcsamples_ann_frb.updateSettings({'smooth_scale_2D': 0.9, 'smooth_scale_1D': 0.9})\n",
    "mcsamples_ann_frb_mock.updateSettings({'smooth_scale_2D': 0.9, 'smooth_scale_1D': 0.9})\n",
    "g.settings.num_plot_contours = 2\n",
    "g.triangle_plot([mcsamples_ann_frb, mcsamples_ann_frb_mock], names1, filled=True, contour_colors=['green', 'red'], \n",
    "                legend_labels=['FRB data', 'Mock'])\n",
    "g.export('Figuras/refann_rec_frb_dm_host(z).png', dpi=600)"
   ]
  },
  {
   "cell_type": "code",
   "execution_count": null,
   "metadata": {},
   "outputs": [],
   "source": [
    "import pandas as pd\n",
    "\n",
    "# Dicionário de amostras e nomes de arquivos\n",
    "amostras = {\n",
    "    \"frb_gapp_dm_host\": samples_gp_frb,\n",
    "    \"frb_refann_dm_host\": samples_ann_frb,\n",
    "    \"frb_gapp_dm_host_mock\": samples_gp_frb_mock,\n",
    "    \"frb_refann_dm_host_mock\": samples_ann_frb_mock\n",
    "}\n",
    "\n",
    "# Salva cada conjunto de amostras em arquivos CSV\n",
    "for nome, dados in amostras.items():\n",
    "    df = pd.DataFrame(dados)\n",
    "    df.to_csv(f\"Samplers/{nome}.csv\", index=False)\n"
   ]
  },
  {
   "cell_type": "code",
   "execution_count": null,
   "metadata": {},
   "outputs": [],
   "source": [
    "\"\"\"import pandas as pd\n",
    "df1_frb = pd.read_csv(\"Samplers/samples1_frb.csv\")\n",
    "df1_sne = pd.read_csv(\"Samplers/samples1_sne.csv\")\n",
    "df1_sne_frb = pd.read_csv(\"Samplers/samples1_sne_frb.csv\")\n",
    "df2_frb = pd.read_csv(\"Samplers/samples2_frb.csv\")\n",
    "df2_sne = pd.read_csv(\"Samplers/samples2_sne.csv\")\n",
    "df2_sne_frb = pd.read_csv(\"Samplers/samples2_sne_frb.csv\")\"\"\""
   ]
  },
  {
   "cell_type": "markdown",
   "metadata": {},
   "source": [
    "## Model Comparison"
   ]
  },
  {
   "cell_type": "code",
   "execution_count": null,
   "metadata": {},
   "outputs": [],
   "source": [
    "\"\"\"samples = {\n",
    "    \"Sample_frb\": {\n",
    "        \"results\": {\n",
    "            'wCDM': {'logz': wCDM_frb['logz'], 'num_params': 5},\n",
    "            'CPL': {'logz': CPL_frb['logz'], 'num_params': 6},\n",
    "        }\n",
    "    },\n",
    "    \"Sample_sne\": {\n",
    "        \"results\": {\n",
    "            'wCDM': {'logz': wCDM_sne['logz'], 'num_params': 5},\n",
    "            'CPL': {'logz': CPL_sne['logz'], 'num_params': 6},\n",
    "        }\n",
    "    },\n",
    "    \"Sample_sne_frb\": {\n",
    "        \"results\": {\n",
    "            'wCDM': {'logz': wCDM_sne_frb['logz'], 'num_params': 5},\n",
    "            'CPL': {'logz': CPL_sne_frb['logz'], 'num_params': 6},\n",
    "        }\n",
    "    }\n",
    "}\"\"\""
   ]
  },
  {
   "cell_type": "code",
   "execution_count": null,
   "metadata": {},
   "outputs": [],
   "source": [
    "\"\"\"from bayesian_analysis import ModelComparison\n",
    "\n",
    "comparison = ModelComparison(samples)\n",
    "comparison.run_comparisons(save_to_file='comparisons_output_frb+SNe.txt')\"\"\""
   ]
  },
  {
   "cell_type": "code",
   "execution_count": null,
   "metadata": {},
   "outputs": [],
   "source": [
    "from bayesian_analysis import SaveResults\n",
    "\n",
    "# Initialize the class with the desired output file\n",
    "results_saver = SaveResults(\"Results_mcmc/results_frb_rec_Hz_dm_host(z).txt\")\n",
    "\n",
    "# Optional: Clear the file if you want to start fresh\n",
    "results_saver.reset_file()\n",
    "\n",
    "results_saver.save_to_txt(mcsamples_gp_frb, 'GaPP')\n",
    "results_saver.save_to_txt(mcsamples_ann_frb, 'Refann')\n",
    "results_saver.save_to_txt(mcsamples_gp_frb_mock, 'GaPP mock')\n",
    "results_saver.save_to_txt(mcsamples_ann_frb_mock, 'Refann mock')"
   ]
  },
  {
   "cell_type": "code",
   "execution_count": null,
   "metadata": {},
   "outputs": [],
   "source": [
    "from bayesian_analysis import CompareMCMCResults\n",
    "\n",
    "comparator = CompareMCMCResults('Results_mcmc/mcmc_comparison_results_dm_host(z).txt')\n",
    "\n",
    "comparator.reset_file()\n",
    "\n",
    "# Faz a comparação entre os dois modelos\n",
    "comparator.compare_errors(mcsamples_gp_frb, mcsamples_gp_frb_mock, \"GaPP\", \"GaPP mock\")\n",
    "comparator.compare_errors(mcsamples_ann_frb, mcsamples_ann_frb_mock, \"Refann\", \"Refann mock\")\n",
    "comparator.compare_errors(mcsamples_gp_frb, mcsamples_ann_frb, \"GaPP\", \"Refann\")\n",
    "comparator.compare_errors(mcsamples_gp_frb_mock, mcsamples_ann_frb_mock, \"GaPP mock\", \"Refann mock\")\n"
   ]
  },
  {
   "cell_type": "code",
   "execution_count": null,
   "metadata": {},
   "outputs": [],
   "source": [
    "\"\"\"from ultranest.plot import PredictionBand\n",
    "from equations import DM_EXT_model\n",
    "import matplotlib.pyplot as plt\n",
    "import numpy as np\n",
    "\n",
    "plt.figure()\n",
    "plt.xlabel('$z$')\n",
    "plt.ylabel('$DM_{ext}(z)$')\n",
    "plt.errorbar(x=z_values_16, y=dm_ext_obs_16, fmt='o', alpha=0.6, color='red', label='16 FRBs', ms=2)\n",
    "\n",
    "z_test = np.linspace(0, 1, 100)\n",
    "\n",
    "band = PredictionBand(z_test)\n",
    "model_fit = DM_EXT_model()\n",
    "# go through the solutions\n",
    "for H_0, A, beta, omega_0, omega_a  in sampler_p2_16.results['samples']:\n",
    "    # compute for each time the y value\n",
    "    band.add(model_fit.DM_ext_th(z=z_test,\n",
    "        f_IGM=0.83,\n",
    "        model_type='constant',\n",
    "        Omega_b=None,  \n",
    "        Omega_m=None,     \n",
    "        H_today=H_0,\n",
    "        A=A,\n",
    "        beta=beta,\n",
    "        omega_0=omega_0,  \n",
    "        omega_a=omega_a,\n",
    "        cosmo_type='non_standard',\n",
    "        param_type='CPL'))\n",
    "\n",
    "band.line(color='k', linestyle='-', label='CPL parameterization', linewidth=1.5)\n",
    "# add 1 sigma quantile\n",
    "band.shade(color='green', alpha=0.3)\n",
    "# add wider quantile (0.01 .. 0.99)\n",
    "band.shade(q=0.49, color='green', alpha=0.2)\n",
    "\n",
    "plt.legend()\n",
    "plt.savefig('Figuras/DM_ext_bestfit_16.png', format='png', dpi=600)\"\"\""
   ]
  },
  {
   "cell_type": "code",
   "execution_count": null,
   "metadata": {},
   "outputs": [],
   "source": [
    "\"\"\"from ultranest.plot import PredictionBand\n",
    "from equations import DM_EXT_model\n",
    "import matplotlib.pyplot as plt\n",
    "import numpy as np\n",
    "\n",
    "plt.figure()\n",
    "plt.xlabel('$z$')\n",
    "plt.ylabel('$DM_{ext}(z)$')\n",
    "plt.errorbar(x=z_values_63, y=dm_ext_obs_63, fmt='o', alpha=0.6, color='red', label='63 FRBs', ms=2)\n",
    "\n",
    "z_test = np.linspace(0, 1.1, 100)\n",
    "\n",
    "band = PredictionBand(z_test)\n",
    "model_fit = DM_EXT_model()\n",
    "# go through the solutions\n",
    "for H_0, A, beta, omega_0  in sampler_constant_63.results['samples']:\n",
    "    # compute for each time the y value\n",
    "    band.add(model_fit.DM_ext_th(z=z_test,\n",
    "        f_IGM=0.83,\n",
    "        model_type='constant',\n",
    "        Omega_b=None,  \n",
    "        Omega_m=None,     \n",
    "        H_today=H_0,\n",
    "        A=A,\n",
    "        beta=beta,\n",
    "        omega_0=omega_0,\n",
    "        cosmo_type='non_standard',\n",
    "        param_type='constant')\n",
    "    )\n",
    "\n",
    "band.line(color='k', linestyle='-', label='Constant parameterization', linewidth=1.5)\n",
    "# add 1 sigma quantile\n",
    "band.shade(color='green', alpha=0.3)\n",
    "# add wider quantile (0.01 .. 0.99)\n",
    "band.shade(q=0.49, color='green', alpha=0.2)\n",
    "\n",
    "plt.legend()\n",
    "plt.savefig('Figuras/DM_ext_bestfit_63.png', format='png', dpi=600)\"\"\""
   ]
  }
 ],
 "metadata": {
  "kernelspec": {
   "display_name": "env_frblip",
   "language": "python",
   "name": "python3"
  },
  "language_info": {
   "codemirror_mode": {
    "name": "ipython",
    "version": 3
   },
   "file_extension": ".py",
   "mimetype": "text/x-python",
   "name": "python",
   "nbconvert_exporter": "python",
   "pygments_lexer": "ipython3",
   "version": "3.10.14"
  }
 },
 "nbformat": 4,
 "nbformat_minor": 4
}
