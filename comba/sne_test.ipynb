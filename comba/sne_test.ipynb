{
 "cells": [
  {
   "cell_type": "code",
   "execution_count": 11,
   "metadata": {},
   "outputs": [],
   "source": [
    "import numpy as np\n",
    "from scipy import stats\n",
    "\n",
    "\n",
    "def gauss_ring_logp(x, y, mean_radius=1, std=0.02):\n",
    "    \"\"\"\n",
    "    Defines a gaussian ring likelihood in cartesian coordinates,\n",
    "    around some ``mean_radius`` and with some ``std``.\n",
    "    \"\"\"\n",
    "    return stats.norm.logpdf(np.sqrt(x**2 + y**2), loc=mean_radius, scale=std)"
   ]
  },
  {
   "cell_type": "code",
   "execution_count": 12,
   "metadata": {},
   "outputs": [],
   "source": [
    "info = {\"likelihood\": {\"ring\": gauss_ring_logp}}"
   ]
  },
  {
   "cell_type": "code",
   "execution_count": 13,
   "metadata": {},
   "outputs": [],
   "source": [
    "info[\"params\"] = {\n",
    "    \"x\": {\"prior\": {\"min\": 0, \"max\": 2}, \"ref\": 0.5, \"proposal\": 0.01},\n",
    "    \"y\": {\"prior\": {\"min\": 0, \"max\": 2}, \"ref\": 0.5, \"proposal\": 0.01}}"
   ]
  },
  {
   "cell_type": "code",
   "execution_count": 14,
   "metadata": {},
   "outputs": [],
   "source": [
    "def get_r(x, y):\n",
    "    return np.sqrt(x ** 2 + y ** 2)\n",
    "\n",
    "\n",
    "def get_theta(x, y):\n",
    "    return np.arctan(y / x)\n",
    "\n",
    "info[\"params\"][\"r\"] = {\"derived\": get_r}\n",
    "info[\"params\"][\"theta\"] = {\"derived\": get_theta,\n",
    "                           \"latex\": r\"\\theta\", \"min\": 0, \"max\": np.pi/2}"
   ]
  },
  {
   "cell_type": "code",
   "execution_count": null,
   "metadata": {},
   "outputs": [],
   "source": [
    "info[\"sampler\"] = {\"mcmc\": {\"Rminus1_stop\": 0.001, \"max_tries\": 1000}}\n",
    "\n",
    "from cobaya import run\n",
    "updated_info, sampler = run(info)"
   ]
  },
  {
   "cell_type": "code",
   "execution_count": null,
   "metadata": {},
   "outputs": [],
   "source": [
    "%matplotlib inline\n",
    "import getdist.plots as gdplt\n",
    "\n",
    "gdsamples = sampler.products(to_getdist=True)[\"sample\"]\n",
    "gdplot = gdplt.get_subplot_plotter(width_inch=5)\n",
    "gdplot.triangle_plot(gdsamples, [\"x\", \"y\"], filled=True)\n",
    "gdplot = gdplt.get_subplot_plotter(width_inch=5)\n",
    "gdplot.plots_1d(gdsamples, [\"r\", \"theta\"], nx=2)"
   ]
  }
 ],
 "metadata": {
  "kernelspec": {
   "display_name": "env_comba",
   "language": "python",
   "name": "python3"
  },
  "language_info": {
   "codemirror_mode": {
    "name": "ipython",
    "version": 3
   },
   "file_extension": ".py",
   "mimetype": "text/x-python",
   "name": "python",
   "nbconvert_exporter": "python",
   "pygments_lexer": "ipython3",
   "version": "3.10.15"
  }
 },
 "nbformat": 4,
 "nbformat_minor": 2
}
