{
 "cells": [
  {
   "cell_type": "markdown",
   "metadata": {},
   "source": [
    "# Bayesian analysis and MCMC"
   ]
  },
  {
   "cell_type": "markdown",
   "metadata": {},
   "source": [
    "## Defining priors"
   ]
  },
  {
   "cell_type": "code",
   "execution_count": 1,
   "metadata": {},
   "outputs": [],
   "source": [
    "from likelihood import JointPriors\n",
    "\n",
    "# Defining the priors and the type of distribuition\n",
    "param_configs_w_frb = {\n",
    "    'h': ((0.669, 0.7504), 'uniform'),\n",
    "    'Omega_mh2': ((0.09, 0.2), 'uniform'),\n",
    "    'Omega_bh2': ((0.02186, 0.02284), 'uniform'), \n",
    "    #'Omega_bh2': ((0.02235, 0.00049), 'gaussian'),\n",
    "    'DM_host_0': ((55, 225), 'uniform'),\n",
    "    'omega_0': ((-2, 0), 'uniform')\n",
    "}\n",
    "\n",
    "param_configs_CPL_frb = {\n",
    "    'h': ((0.669, 0.7504), 'uniform'),\n",
    "    'Omega_mh2': ((0.05, 0.2), 'uniform'),\n",
    "    'Omega_bh2': ((0.02186, 0.02284), 'uniform'), \n",
    "    #'Omega_bh2': ((0.02235, 0.00049), 'gaussian'),\n",
    "    'DM_host_0': ((55, 225), 'uniform'),\n",
    "    'omega_0': ((-2, 0), 'uniform'),\n",
    "    'omega_a': ((-2, 2), 'uniform')\n",
    "}\n",
    "\n",
    "param_configs_w_sne = {\n",
    "    'h': ((0.669, 0.7504), 'uniform'),\n",
    "    'Omega_mh2': ((0.05, 0.2), 'uniform'),\n",
    "    'omega_0': ((-2, 0), 'uniform')\n",
    "}\n",
    "\n",
    "param_configs_CPL_sne = {\n",
    "    'h': ((0.669, 0.7504), 'uniform'),\n",
    "    'Omega_mh2': ((0.05, 0.2), 'uniform'),\n",
    "    'omega_0': ((-2, 0), 'uniform'),\n",
    "    'omega_a': ((-2, 2), 'uniform')\n",
    "}\n",
    "\n",
    "P_w_frb = JointPriors(param_configs_w_frb)\n",
    "P_w_sne = JointPriors(param_configs_w_sne)\n",
    "P_CPL_frb = JointPriors(param_configs_CPL_frb)\n",
    "P_CPL_sne = JointPriors(param_configs_CPL_sne)"
   ]
  },
  {
   "cell_type": "markdown",
   "metadata": {},
   "source": [
    "### Models and parameters"
   ]
  },
  {
   "cell_type": "code",
   "execution_count": 2,
   "metadata": {},
   "outputs": [],
   "source": [
    "from likelihood import JointLikelihoodFunction\n",
    "from equations import DM_EXT_model, Modulus_sne, Hubble\n",
    "\n",
    "model = DM_EXT_model()\n",
    "mu_wCDM = Modulus_sne()\n",
    "H_model = Hubble()\n",
    "\n",
    "# Creating an instance of JointLikelihoodFunction\n",
    "LF_w_frb = JointLikelihoodFunction(\n",
    "    { 'FRB': lambda z, Omega_bh2, h, Omega_mh2, DM_host_0, omega_0: model.DM_ext_th(\n",
    "        z=z,\n",
    "        f_IGM=0.83,\n",
    "        model_type='constant',\n",
    "        Omega_bh2=Omega_bh2,  \n",
    "        Omega_mh2=Omega_mh2,\n",
    "        h=h,     \n",
    "        DM_host_0=DM_host_0,\n",
    "        omega_0=omega_0,  \n",
    "        cosmo_type='non_standard',\n",
    "        param_type='constant'\n",
    "    ) \n",
    "    }\n",
    ")\n",
    "\n",
    "LF_w_sne = JointLikelihoodFunction(\n",
    "    { 'SNe': lambda z, h, Omega_mh2, omega_0: mu_wCDM.Modulo_std(\n",
    "        z=z,\n",
    "        Omega_mh2=Omega_mh2,\n",
    "        h=h,\n",
    "        omega_0=omega_0,\n",
    "        cosmo_type='non_standard',\n",
    "        param_type='constant'\n",
    "    ) \n",
    "    }\n",
    ")\n",
    "\n",
    "LF_w_cc = JointLikelihoodFunction(\n",
    "    { 'CC': lambda z, h, Omega_mh2, omega_0: H_model.H_func(\n",
    "        z=z,\n",
    "        Omega_mh2=Omega_mh2,\n",
    "        h=h,\n",
    "        omega_0=omega_0,\n",
    "        cosmo_type='non_standard',\n",
    "        param_type='constant'\n",
    "    ) \n",
    "    }\n",
    ")\n",
    "\n",
    "LF_w_sne_frb_cc = JointLikelihoodFunction(\n",
    "    { 'FRB': lambda z, Omega_bh2, h, Omega_mh2, DM_host_0, omega_0: model.DM_ext_th(\n",
    "        z=z,\n",
    "        f_IGM=0.83,\n",
    "        model_type='constant',\n",
    "        Omega_bh2=Omega_bh2, \n",
    "        h=h, \n",
    "        Omega_mh2=Omega_mh2,     \n",
    "        DM_host_0=DM_host_0,\n",
    "        omega_0=omega_0,  \n",
    "        cosmo_type='non_standard',\n",
    "        param_type='constant'\n",
    "    ),\n",
    "\n",
    "    'SNe': lambda z, h, Omega_mh2, omega_0: mu_wCDM.Modulo_std(\n",
    "        z=z,\n",
    "        Omega_mh2=Omega_mh2,\n",
    "        h=h,\n",
    "        omega_0=omega_0,\n",
    "        cosmo_type='non_standard',\n",
    "        param_type='constant'\n",
    "    ),\n",
    "\n",
    "    'CC': lambda z, h, Omega_mh2, omega_0: H_model.H_func(\n",
    "        z=z,\n",
    "        Omega_mh2=Omega_mh2,\n",
    "        h=h,\n",
    "        omega_0=omega_0,\n",
    "        cosmo_type='non_standard',\n",
    "        param_type='constant'\n",
    "    ) \n",
    "    },\n",
    "\n",
    "    shared_params = [\"h\", \"Omega_mh2\", \"omega_0\"]\n",
    ")\n",
    "\n",
    "LF_CPL_frb = JointLikelihoodFunction(\n",
    "    { 'FRB': lambda z, Omega_bh2, h, Omega_mh2, DM_host_0, omega_0, omega_a: model.DM_ext_th(\n",
    "        z=z,\n",
    "        f_IGM=0.83,\n",
    "        model_type='constant',\n",
    "        Omega_bh2=Omega_bh2, \n",
    "        h=h, \n",
    "        Omega_mh2=Omega_mh2,     \n",
    "        DM_host_0=DM_host_0,\n",
    "        omega_0=omega_0,\n",
    "        omega_a=omega_a,  \n",
    "        cosmo_type='non_standard',\n",
    "        param_type='CPL'\n",
    "    ) \n",
    "    }\n",
    ")\n",
    "\n",
    "LF_CPL_sne = JointLikelihoodFunction(\n",
    "    { 'SNe': lambda z, h, Omega_mh2, omega_0, omega_a: mu_wCDM.Modulo_std(\n",
    "        z=z,\n",
    "        Omega_mh2=Omega_mh2,\n",
    "        h=h,\n",
    "        omega_0=omega_0,\n",
    "        omega_a=omega_a,\n",
    "        cosmo_type='non_standard',\n",
    "        param_type='CPL'\n",
    "    ) \n",
    "    }\n",
    ")\n",
    "\n",
    "LF_CPL_cc = JointLikelihoodFunction(\n",
    "    { 'CC': lambda z, h, Omega_mh2, omega_0, omega_a: H_model.H_func(\n",
    "        z=z,\n",
    "        Omega_mh2=Omega_mh2,\n",
    "        h=h,\n",
    "        omega_0=omega_0,\n",
    "        omega_a=omega_a,\n",
    "        cosmo_type='non_standard',\n",
    "        param_type='CPL'\n",
    "    ) \n",
    "    }\n",
    ")\n",
    "\n",
    "LF_CPL_sne_frb = JointLikelihoodFunction(\n",
    "    { 'FRB': lambda z, Omega_bh2, h, Omega_mh2, DM_host_0, omega_0, omega_a: model.DM_ext_th(\n",
    "        z=z,\n",
    "        f_IGM=0.83,\n",
    "        model_type='constant',\n",
    "        Omega_bh2=Omega_bh2, \n",
    "        h=h, \n",
    "        Omega_mh2=Omega_mh2,     \n",
    "        DM_host_0=DM_host_0,\n",
    "        omega_0=omega_0,\n",
    "        omega_a=omega_a,  \n",
    "        cosmo_type='non_standard',\n",
    "        param_type='CPL'\n",
    "    ),\n",
    "\n",
    "    'SNe': lambda z, h, Omega_mh2, omega_0, omega_a: mu_wCDM.Modulo_std(\n",
    "        z=z,\n",
    "        Omega_mh2=Omega_mh2,\n",
    "        h=h,\n",
    "        omega_0=omega_0,\n",
    "        omega_a=omega_a,\n",
    "        cosmo_type='non_standard',\n",
    "        param_type='CPL'\n",
    "    ),\n",
    "\n",
    "    'CC': lambda z, h, Omega_mh2, omega_0, omega_a: H_model.H_func(\n",
    "        z=z,\n",
    "        Omega_mh2=Omega_mh2,\n",
    "        h=h,\n",
    "        omega_0=omega_0,\n",
    "        omega_a=omega_a,\n",
    "        cosmo_type='non_standard',\n",
    "        param_type='CPL'\n",
    "    ) \n",
    "    },\n",
    "    shared_params = [\"h\", \"Omega_mh2\", \"omega_0\", \"omega_a\"]\n",
    ")"
   ]
  },
  {
   "cell_type": "markdown",
   "metadata": {},
   "source": [
    "## Preparing the samples"
   ]
  },
  {
   "cell_type": "markdown",
   "metadata": {},
   "source": [
    "### Analysis for 66 FRBs"
   ]
  },
  {
   "cell_type": "code",
   "execution_count": 3,
   "metadata": {},
   "outputs": [],
   "source": [
    "from obs_data import FRB_data, SNe_data, H_data\n",
    "import ultranest\n",
    "\n",
    "# Instantiate the FRB_data class for 66 FRBs\n",
    "frb_data = FRB_data(n_frb=66)\n",
    "\n",
    "sne_data = SNe_data(sample_sne='Pantheon+SH0ES')\n",
    "\n",
    "z_sne, mu_sne, cov_matrix = sne_data.load_data()\n",
    "\n",
    "# Call the select_data method to get the observed data\n",
    "z_frb, DM_ext, sigma_ext = frb_data.select_data()\n",
    "\n",
    "Hz_data = H_data()\n",
    "\n",
    "z_val, H_val, errors = Hz_data.H_z_data()\n",
    "\n",
    "# Configuring the ultranest samplers\n",
    "sampler_w_frb = ultranest.ReactiveNestedSampler(\n",
    "    P_w_frb.param_names,\n",
    "    lambda params: LF_w_frb.log_likelihood(\n",
    "        dict(zip(P_w_frb.param_names, params)),\n",
    "        {\n",
    "            'FRB': (z_frb, DM_ext, sigma_ext)\n",
    "        }\n",
    "    ),\n",
    "    P_w_frb.prior_transform\n",
    ")\n",
    "\n",
    "sampler_w_sne = ultranest.ReactiveNestedSampler(\n",
    "    P_w_sne.param_names,\n",
    "    lambda params: LF_w_sne.log_likelihood(\n",
    "        dict(zip(P_w_sne.param_names, params)),\n",
    "        {\n",
    "            'SNe': (z_sne, mu_sne, cov_matrix)\n",
    "        }\n",
    "    ),\n",
    "    P_w_sne.prior_transform\n",
    ")\n",
    "\n",
    "sampler_w_cc = ultranest.ReactiveNestedSampler(\n",
    "    P_w_sne.param_names,\n",
    "    lambda params: LF_w_cc.log_likelihood(\n",
    "        dict(zip(P_w_sne.param_names, params)),\n",
    "        {\n",
    "            'CC': (z_val, H_val, errors)\n",
    "        }\n",
    "    ),\n",
    "    P_w_sne.prior_transform\n",
    ")\n",
    "\n",
    "sampler_w_sne_frb_cc = ultranest.ReactiveNestedSampler(\n",
    "    P_w_frb.param_names,\n",
    "    lambda params: LF_w_sne_frb_cc.log_likelihood(\n",
    "        dict(zip(P_w_frb.param_names, params)),\n",
    "        {\n",
    "            'FRB': (z_frb, DM_ext, sigma_ext),\n",
    "            'SNe': (z_sne, mu_sne, cov_matrix),\n",
    "            'CC': (z_val, H_val, errors)\n",
    "        }\n",
    "    ),\n",
    "    P_w_frb.prior_transform\n",
    ")\n",
    "\n",
    "sampler_CPL_frb = ultranest.ReactiveNestedSampler(\n",
    "    P_CPL_frb.param_names,\n",
    "    lambda params: LF_CPL_frb.log_likelihood(\n",
    "        dict(zip(P_CPL_frb.param_names, params)),\n",
    "        {\n",
    "            'FRB': (z_frb, DM_ext, sigma_ext)\n",
    "        }\n",
    "    ),\n",
    "    P_CPL_frb.prior_transform\n",
    ")\n",
    "\n",
    "sampler_CPL_sne = ultranest.ReactiveNestedSampler(\n",
    "    P_CPL_sne.param_names,\n",
    "    lambda params: LF_CPL_sne.log_likelihood(\n",
    "        dict(zip(P_CPL_sne.param_names, params)),\n",
    "        {\n",
    "            'SNe': (z_sne, mu_sne, cov_matrix)\n",
    "        }\n",
    "    ),\n",
    "    P_CPL_sne.prior_transform\n",
    ")\n",
    "\n",
    "sampler_CPL_cc = ultranest.ReactiveNestedSampler(\n",
    "    P_CPL_sne.param_names,\n",
    "    lambda params: LF_CPL_cc.log_likelihood(\n",
    "        dict(zip(P_CPL_sne.param_names, params)),\n",
    "        {\n",
    "            'CC': (z_val, H_val, errors)\n",
    "        }\n",
    "    ),\n",
    "    P_CPL_sne.prior_transform\n",
    ")\n",
    "\n",
    "sampler_CPL_sne_frb_cc = ultranest.ReactiveNestedSampler(\n",
    "    P_CPL_frb.param_names,\n",
    "    lambda params: LF_CPL_sne_frb.log_likelihood(\n",
    "        dict(zip(P_CPL_frb.param_names, params)),\n",
    "        {\n",
    "            'FRB': (z_frb, DM_ext, sigma_ext),\n",
    "            'SNe': (z_sne, mu_sne, cov_matrix),\n",
    "            'CC': (z_val, H_val, errors)\n",
    "        }\n",
    "    ),\n",
    "    P_CPL_frb.prior_transform\n",
    ")"
   ]
  },
  {
   "cell_type": "code",
   "execution_count": 4,
   "metadata": {},
   "outputs": [
    {
     "name": "stdout",
     "output_type": "stream",
     "text": [
      "[ultranest] Sampling 400 live points from prior ...\n"
     ]
    },
    {
     "data": {
      "application/vnd.jupyter.widget-view+json": {
       "model_id": "ef7ccb127ffd4771b40d59494296af21",
       "version_major": 2,
       "version_minor": 0
      },
      "text/plain": [
       "VBox(children=(HTML(value=''), GridspecLayout(children=(HTML(value=\"<div style='background-color:#6E6BF4;'>&nb…"
      ]
     },
     "metadata": {},
     "output_type": "display_data"
    },
    {
     "name": "stdout",
     "output_type": "stream",
     "text": [
      "[ultranest] Explored until L=-8e+01   [-83.1837..-83.1831]*| it/evals=3856/12341 eff=32.2921% N=400 \n",
      "[ultranest] Likelihood function evaluations: 12342\n",
      "[ultranest]   logZ = -88.15 +- 0.05005\n",
      "[ultranest] Effective samples strategy satisfied (ESS = 2196.8, need >400)\n",
      "[ultranest] Posterior uncertainty strategy is satisfied (KL: 0.46+-0.06 nat, need <0.50 nat)\n",
      "[ultranest] Evidency uncertainty strategy is satisfied (dlogz=0.05, need <0.5)\n",
      "[ultranest]   logZ error budget: single: 0.09 bs:0.05 tail:0.01 total:0.05 required:<0.50\n",
      "[ultranest] done iterating.\n",
      "\n",
      "logZ = -88.147 +- 0.118\n",
      "  single instance: logZ = -88.147 +- 0.087\n",
      "  bootstrapped   : logZ = -88.148 +- 0.118\n",
      "  tail           : logZ = +- 0.010\n",
      "insert order U test : converged: True correlation: inf iterations\n",
      "\n",
      "    h                   : 0.669 │▇▆▅▆▅▅▄▄▄▄▄▄▃▂▃▃▂▂▃▂▂▂▂▂▂▂▁▁▁▁▁▁▁▁▁▁▁▁▁│0.750     0.692 +- 0.019\n",
      "    Omega_mh2           : 0.090 │▇▇▇▆▇▆▇▆▅▅▅▄▅▄▄▄▃▄▂▂▂▂▂▂▂▁▁▁▁▁▁▁▁▁▁▁▁▁▁│0.200     0.120 +- 0.024\n",
      "    Omega_bh2           : 0.02186│▂▂▂▃▃▃▃▄▃▃▃▃▄▄▃▃▃▄▃▄▄▄▄▄▄▅▄▅▆▅▅▆▇▅▆▇▆▇▇│0.02284    0.02245 +- 0.00027\n",
      "    DM_host_0           : 104   │ ▁▁▁▁▁▁▁▁▁▂▂▄▄▅▆▇▇▇▇▆▅▃▃▂▂▁▁▁▁▁▁  ▁  ▁ │223       158 +- 13\n",
      "    omega_0             : -2.00 │▇▇▆▆▇▅▅▄▄▄▃▄▃▂▂▂▂▂▁▁▁▁▁▁▁▁▁▁▁▁▁▁ ▁▁  ▁ │-0.49     -1.71 +- 0.24\n",
      "\n"
     ]
    }
   ],
   "source": [
    "wCDM_frb = sampler_w_frb.run(min_num_live_points=400)\n",
    "sampler_w_frb.print_results()"
   ]
  },
  {
   "cell_type": "code",
   "execution_count": null,
   "metadata": {},
   "outputs": [
    {
     "name": "stdout",
     "output_type": "stream",
     "text": [
      "[ultranest] Sampling 400 live points from prior ...\n"
     ]
    }
   ],
   "source": [
    "wCDM_sne = sampler_w_sne.run(min_num_live_points=400)\n",
    "sampler_w_sne.print_results()"
   ]
  },
  {
   "cell_type": "code",
   "execution_count": 5,
   "metadata": {},
   "outputs": [
    {
     "name": "stdout",
     "output_type": "stream",
     "text": [
      "[ultranest] Sampling 400 live points from prior ...\n"
     ]
    },
    {
     "data": {
      "application/vnd.jupyter.widget-view+json": {
       "model_id": "b476480c3bc84a9ca0114050f3fecd52",
       "version_major": 2,
       "version_minor": 0
      },
      "text/plain": [
       "VBox(children=(HTML(value=''), GridspecLayout(children=(HTML(value=\"<div style='background-color:#6E6BF4;'>&nb…"
      ]
     },
     "metadata": {},
     "output_type": "display_data"
    },
    {
     "name": "stdout",
     "output_type": "stream",
     "text": [
      "[ultranest] Explored until L=-7  26 [-7.2959..-7.2958]*| it/evals=2970/6216 eff=51.0660% N=400   \n",
      "[ultranest] Likelihood function evaluations: 6221\n",
      "[ultranest]   logZ = -10.13 +- 0.04184\n",
      "[ultranest] Effective samples strategy satisfied (ESS = 1522.5, need >400)\n",
      "[ultranest] Posterior uncertainty strategy is satisfied (KL: 0.46+-0.09 nat, need <0.50 nat)\n",
      "[ultranest] Evidency uncertainty strategy is satisfied (dlogz=0.04, need <0.5)\n",
      "[ultranest]   logZ error budget: single: 0.07 bs:0.04 tail:0.01 total:0.04 required:<0.50\n",
      "[ultranest] done iterating.\n",
      "\n",
      "logZ = -10.110 +- 0.069\n",
      "  single instance: logZ = -10.110 +- 0.068\n",
      "  bootstrapped   : logZ = -10.128 +- 0.068\n",
      "  tail           : logZ = +- 0.010\n",
      "insert order U test : converged: True correlation: inf iterations\n",
      "\n",
      "    h                   : 0.669 │▆▅▅▆▇▆▅▅▆▇▆▆▆▇▅▅▇▅▆▆▆▇▅▆▅▆▆▄▅▅▆▆▅▃▅▅▅▅▄│0.750     0.708 +- 0.023\n",
      "    Omega_mh2           : 0.050 │▁▁▁▁▁▁▁▁▁▁▁▁▁▁▂▁▁▂▂▂▃▄▄▄▄▄▅▄▅▆▇▇▇▅▆▅▄▄▂│0.200     0.158 +- 0.026\n",
      "    omega_0             : -2.00 │▁▂▂▂▂▃▃▃▄▅▃▄▅▅▆▇▆▇▇▇▆▆▅▆▅▄▄▄▃▃▂▂▁▁▁▁ ▁ │-0.39     -1.27 +- 0.31\n",
      "\n"
     ]
    }
   ],
   "source": [
    "wCDM_cc = sampler_w_cc.run(min_num_live_points=400)\n",
    "sampler_w_cc.print_results()"
   ]
  },
  {
   "cell_type": "code",
   "execution_count": 9,
   "metadata": {},
   "outputs": [
    {
     "name": "stdout",
     "output_type": "stream",
     "text": [
      "[ultranest] Sampling 400 live points from prior ...\n"
     ]
    },
    {
     "data": {
      "application/vnd.jupyter.widget-view+json": {
       "model_id": "5784a581af0b4990b08d232832b53c2e",
       "version_major": 2,
       "version_minor": 0
      },
      "text/plain": [
       "VBox(children=(HTML(value=''), GridspecLayout(children=(HTML(value=\"<div style='background-color:#6E6BF4;'>&nb…"
      ]
     },
     "metadata": {},
     "output_type": "display_data"
    },
    {
     "name": "stdout",
     "output_type": "stream",
     "text": [
      "[ultranest] Explored until L=-1e+03  052.53 [-1052.9149..-1052.9145]*| it/evals=5918/23063 eff=26.1130% N=400 \n",
      "[ultranest] Likelihood function evaluations: 23063\n",
      "[ultranest]   logZ = -1063 +- 0.1046\n",
      "[ultranest] Effective samples strategy satisfied (ESS = 2390.1, need >400)\n",
      "[ultranest] Posterior uncertainty strategy is satisfied (KL: 0.46+-0.07 nat, need <0.50 nat)\n",
      "[ultranest] Evidency uncertainty strategy is satisfied (dlogz=0.11, need <0.5)\n",
      "[ultranest]   logZ error budget: single: 0.14 bs:0.10 tail:0.01 total:0.11 required:<0.50\n",
      "[ultranest] done iterating.\n",
      "\n",
      "logZ = -1062.986 +- 0.239\n",
      "  single instance: logZ = -1062.986 +- 0.138\n",
      "  bootstrapped   : logZ = -1062.984 +- 0.238\n",
      "  tail           : logZ = +- 0.010\n",
      "insert order U test : converged: True correlation: inf iterations\n",
      "\n",
      "    h                   : 0.7143│ ▁▁▁▁▁▁▁▁▁▁▂▂▃▄▅▆▇▇▇▆▇▅▅▅▃▂▂▁▁▁▁▁▁▁▁ ▁ │0.7348    0.7245 +- 0.0024\n",
      "    Omega_mh2           : 0.090 │▇▇▇▆▆▆▅▅▄▅▄▄▄▃▂▂▂▂▂▁▁▁▁▁▁▁▁▁▁▁▁▁▁   ▁▁▁│0.200     0.112 +- 0.016\n",
      "    Omega_bh2           : 0.02186│▁▁▁▁▁▂▁▁▁▂▁▂▁▂▂▂▂▂▂▃▃▃▃▄▃▃▃▄▅▄▅▅▅▅▆▅▆▆▇│0.02284    0.02254 +- 0.00024\n",
      "    DM_host_0           : 119   │ ▁ ▁  ▁▁▁▁▁▁▂▃▃▄▄▅▅▇▇▇▇▆▅▅▄▃▃▂▁▁▁▁▁▁▁▁ │220       174 +- 12\n",
      "    omega_0             : -1.066│ ▁▁ ▁▁ ▁▁▁▁▁▁▁▁▁▁▁▁▂▂▃▃▃▄▅▇▇▇▆▆▅▃▂▁▁▁▁ │-0.554    -0.713 +- 0.055\n",
      "\n"
     ]
    }
   ],
   "source": [
    "wCDM_sne_frb_cc = sampler_w_sne_frb_cc.run(min_num_live_points=400)\n",
    "sampler_w_sne_frb_cc.print_results()"
   ]
  },
  {
   "cell_type": "code",
   "execution_count": 6,
   "metadata": {},
   "outputs": [
    {
     "name": "stdout",
     "output_type": "stream",
     "text": [
      "[ultranest] Sampling 400 live points from prior ...\n"
     ]
    },
    {
     "data": {
      "application/vnd.jupyter.widget-view+json": {
       "model_id": "ebe91a9363114694a51c8f02130497fe",
       "version_major": 2,
       "version_minor": 0
      },
      "text/plain": [
       "VBox(children=(HTML(value=''), GridspecLayout(children=(HTML(value=\"<div style='background-color:#6E6BF4;'>&nb…"
      ]
     },
     "metadata": {},
     "output_type": "display_data"
    },
    {
     "name": "stdout",
     "output_type": "stream",
     "text": [
      "[ultranest] Explored until L=-8e+01   [-83.2247..-83.2244]*| it/evals=3652/15758 eff=23.7791% N=400 \n",
      "[ultranest] Likelihood function evaluations: 15758\n",
      "[ultranest]   logZ = -87.65 +- 0.05808\n",
      "[ultranest] Effective samples strategy satisfied (ESS = 2013.5, need >400)\n",
      "[ultranest] Posterior uncertainty strategy is satisfied (KL: 0.46+-0.07 nat, need <0.50 nat)\n",
      "[ultranest] Evidency uncertainty strategy is satisfied (dlogz=0.06, need <0.5)\n",
      "[ultranest]   logZ error budget: single: 0.08 bs:0.06 tail:0.01 total:0.06 required:<0.50\n",
      "[ultranest] done iterating.\n",
      "\n",
      "logZ = -87.654 +- 0.119\n",
      "  single instance: logZ = -87.654 +- 0.080\n",
      "  bootstrapped   : logZ = -87.653 +- 0.118\n",
      "  tail           : logZ = +- 0.010\n",
      "insert order U test : converged: True correlation: inf iterations\n",
      "\n",
      "    h                   : 0.669 │▇▇▆▅▇▆▅▄▅▄▅▄▃▄▃▃▂▄▃▂▃▂▂▃▂▂▂▂▂▁▂▁▂▁▁▁▁▁▁│0.750     0.694 +- 0.020\n",
      "    Omega_mh2           : 0.050 │▅▆▅▇▇▇▇▇▆▅▆▇▅▅▅▅▅▄▄▄▃▃▃▃▂▂▃▂▁▁▂▁▁▁▁▁▁▁▁│0.200     0.097 +- 0.032\n",
      "    Omega_bh2           : 0.02186│▃▃▃▃▃▃▄▃▃▄▃▄▄▃▄▄▅▅▄▅▅▅▄▅▅▅▄▇▆▆▆▅▆▇▇▇▆▆▇│0.02284    0.02244 +- 0.00028\n",
      "    DM_host_0           : 99    │ ▁▁ ▁ ▁▁▁▁▁▁▂▂▃▃▄▅▅▇▆▇▇▆▆▆▄▄▃▂▁▁▁▁▁▁▁▁ │205       157 +- 13\n",
      "    omega_0             : -2.00 │▇▇▆▆▆▆▅▅▅▅▄▃▃▃▃▃▂▂▂▁▂▁▁▁▁▁▁▁▁▁▁▁   ▁ ▁ │-0.23     -1.64 +- 0.28\n",
      "    omega_a             : -2.0  │▅▆▆▅▇▆▆▇▆▅▆▇▇▅▅▇▅▆▅▇▆▇▇▇▇▆▅▅▇▇▆▆▅▆▅▆▅▆▄│2.0       -0.0 +- 1.1\n",
      "\n"
     ]
    }
   ],
   "source": [
    "CPL_frb = sampler_CPL_frb.run(min_num_live_points=400)\n",
    "sampler_CPL_frb.print_results()"
   ]
  },
  {
   "cell_type": "code",
   "execution_count": 10,
   "metadata": {},
   "outputs": [
    {
     "name": "stdout",
     "output_type": "stream",
     "text": [
      "[ultranest] Sampling 400 live points from prior ...\n"
     ]
    },
    {
     "data": {
      "application/vnd.jupyter.widget-view+json": {
       "model_id": "113391662976444ea2272763d2721a4c",
       "version_major": 2,
       "version_minor": 0
      },
      "text/plain": [
       "VBox(children=(HTML(value=''), GridspecLayout(children=(HTML(value=\"<div style='background-color:#6E6BF4;'>&nb…"
      ]
     },
     "metadata": {},
     "output_type": "display_data"
    },
    {
     "name": "stdout",
     "output_type": "stream",
     "text": [
      "[ultranest] Explored until L=-9e+02  .22 [-946.3980..-946.3979]*| it/evals=5119/17697 eff=29.5947% N=400  \n",
      "[ultranest] Likelihood function evaluations: 17697\n",
      "[ultranest]   logZ = -954.5 +- 0.067\n",
      "[ultranest] Effective samples strategy satisfied (ESS = 1938.9, need >400)\n",
      "[ultranest] Posterior uncertainty strategy is satisfied (KL: 0.46+-0.06 nat, need <0.50 nat)\n",
      "[ultranest] Evidency uncertainty strategy is satisfied (dlogz=0.07, need <0.5)\n",
      "[ultranest]   logZ error budget: single: 0.13 bs:0.07 tail:0.01 total:0.07 required:<0.50\n",
      "[ultranest] done iterating.\n",
      "\n",
      "logZ = -954.535 +- 0.113\n",
      "  single instance: logZ = -954.535 +- 0.127\n",
      "  bootstrapped   : logZ = -954.540 +- 0.113\n",
      "  tail           : logZ = +- 0.010\n",
      "insert order U test : converged: True correlation: inf iterations\n",
      "\n",
      "    h                   : 0.7087│ ▁ ▁▁▁▁▁▁▂▂▃▄▄▅▇▆▇▇▇▇▆▅▄▄▃▂▂▂▁▁▁▁▁▁▁▁▁ │0.7329    0.7203 +- 0.0030\n",
      "    Omega_mh2           : 0.050 │▁▁▁▁▂▂▁▂▂▂▁▁▃▃▃▃▃▃▃▄▄▄▅▅▅▅▅▆▇▆▇▅▇▆▅▅▆▅▄│0.200     0.147 +- 0.035\n",
      "    omega_0             : -1.027│ ▁▁▁▁▁▁▁▁▁▁▂▂▂▃▄▆▅▅▇▇▇▇▇▇▆▅▄▃▂▂▁▁▁▁▁ ▁ │-0.316    -0.645 +- 0.090\n",
      "    omega_a             : -2.00 │▅▅▇▇▆▆▅▇▆▆▆▆▅▇▅▇▅▅▅▄▄▄▃▄▂▂▂▂▁▁▁▁▁▁▁▁ ▁ │1.31      -0.99 +- 0.63\n",
      "\n"
     ]
    }
   ],
   "source": [
    "CPL_sne = sampler_CPL_sne.run(min_num_live_points=400)\n",
    "sampler_CPL_sne.print_results()"
   ]
  },
  {
   "cell_type": "code",
   "execution_count": 7,
   "metadata": {},
   "outputs": [
    {
     "name": "stdout",
     "output_type": "stream",
     "text": [
      "[ultranest] Sampling 400 live points from prior ...\n"
     ]
    },
    {
     "data": {
      "application/vnd.jupyter.widget-view+json": {
       "model_id": "2d1b36cf88044f63b91abad0c141f88e",
       "version_major": 2,
       "version_minor": 0
      },
      "text/plain": [
       "VBox(children=(HTML(value=''), GridspecLayout(children=(HTML(value=\"<div style='background-color:#6E6BF4;'>&nb…"
      ]
     },
     "metadata": {},
     "output_type": "display_data"
    },
    {
     "name": "stdout",
     "output_type": "stream",
     "text": [
      "[ultranest] Explored until L=-7  21 [-7.2613..-7.2613]*| it/evals=2930/19541 eff=15.3075% N=400   \n",
      "[ultranest] Likelihood function evaluations: 19705\n",
      "[ultranest]   logZ = -9.974 +- 0.05167\n",
      "[ultranest] Effective samples strategy satisfied (ESS = 1481.7, need >400)\n",
      "[ultranest] Posterior uncertainty strategy is satisfied (KL: 0.46+-0.07 nat, need <0.50 nat)\n",
      "[ultranest] Evidency uncertainty strategy is satisfied (dlogz=0.05, need <0.5)\n",
      "[ultranest]   logZ error budget: single: 0.07 bs:0.05 tail:0.01 total:0.05 required:<0.50\n",
      "[ultranest] done iterating.\n",
      "\n",
      "logZ = -9.983 +- 0.182\n",
      "  single instance: logZ = -9.983 +- 0.068\n",
      "  bootstrapped   : logZ = -9.974 +- 0.182\n",
      "  tail           : logZ = +- 0.010\n",
      "insert order U test : converged: True correlation: inf iterations\n",
      "\n",
      "    h                   : 0.669 │▄▅▇▅▄▅▄▅▅▅▆▇▆▅▆▅▇▆▇▇▅▆▇▆▆▇▅▅▅▅▅▆▆▄▅▇▅▅▅│0.750     0.710 +- 0.023\n",
      "    Omega_mh2           : 0.050 │▁▁▁▁▁▁▁▁▁▁▁▂▁▂▂▂▂▂▂▂▂▃▃▃▄▄▅▆▇▇▆▇▆▇▅▅▅▄▃│0.200     0.154 +- 0.032\n",
      "    omega_0             : -2.00 │▁▁▂▂▃▃▃▅▆▅▆▇▇▇▇▇▇▇▅▆▆▆▃▃▂▂▂▁▁▁▁▁     ▁ │-0.08     -1.29 +- 0.29\n",
      "    omega_a             : -2.0  │▃▄▆▄▄▄▅▅▆▄▄▆▅▅▆▄▄▆▆▅▅▇▆▆▅▅▅▇▆▆▆▆▇▇▆▄▅▄▅│2.0       0.1 +- 1.1\n",
      "\n"
     ]
    }
   ],
   "source": [
    "CPL_cc = sampler_CPL_cc.run(min_num_live_points=400)\n",
    "sampler_CPL_cc.print_results()"
   ]
  },
  {
   "cell_type": "code",
   "execution_count": 11,
   "metadata": {},
   "outputs": [
    {
     "name": "stdout",
     "output_type": "stream",
     "text": [
      "[ultranest] Sampling 400 live points from prior ...\n"
     ]
    },
    {
     "data": {
      "application/vnd.jupyter.widget-view+json": {
       "model_id": "ac60687ecdab45159b163d0f66d9f4b2",
       "version_major": 2,
       "version_minor": 0
      },
      "text/plain": [
       "VBox(children=(HTML(value=''), GridspecLayout(children=(HTML(value=\"<div style='background-color:#6E6BF4;'>&nb…"
      ]
     },
     "metadata": {},
     "output_type": "display_data"
    },
    {
     "name": "stdout",
     "output_type": "stream",
     "text": [
      "[ultranest] Explored until L=-1e+03  050.89 [-1051.3997..-1051.3996]*| it/evals=6160/41517 eff=14.9816% N=400 \n",
      "[ultranest] Likelihood function evaluations: 41517\n",
      "[ultranest]   logZ = -1062 +- 0.1184\n",
      "[ultranest] Effective samples strategy satisfied (ESS = 2420.7, need >400)\n",
      "[ultranest] Posterior uncertainty strategy is satisfied (KL: 0.46+-0.05 nat, need <0.50 nat)\n",
      "[ultranest] Evidency uncertainty strategy is satisfied (dlogz=0.12, need <0.5)\n",
      "[ultranest]   logZ error budget: single: 0.14 bs:0.12 tail:0.01 total:0.12 required:<0.50\n",
      "[ultranest] done iterating.\n",
      "\n",
      "logZ = -1062.065 +- 0.266\n",
      "  single instance: logZ = -1062.065 +- 0.142\n",
      "  bootstrapped   : logZ = -1062.112 +- 0.266\n",
      "  tail           : logZ = +- 0.010\n",
      "insert order U test : converged: True correlation: inf iterations\n",
      "\n",
      "    h                   : 0.7109│ ▁▁▁▁▁▁▁▂▂▃▄▄▅▇▇▇▇▇▇▇▅▅▅▃▂▂▁▁▁▁▁▁▁▁▁▁▁ │0.7332    0.7211 +- 0.0029\n",
      "    Omega_mh2           : 0.050 │▁▁▁▁▁▁▁▁▁▁▁▁▁▂▂▂▂▂▃▄▄▄▅▅▆▆▇▇▇▆▅▄▄▃▂▂▁▁▁│0.200     0.144 +- 0.027\n",
      "    Omega_bh2           : 0.02186│▁▁▁▁▂▁▁▁▁▂▁▂▂▂▂▂▂▂▃▂▃▃▃▃▃▃▄▄▄▄▅▅▅▅▅▆▆▇▇│0.02284    0.02254 +- 0.00024\n",
      "    DM_host_0           : 129   │ ▁▁▁▁▁▁▁▁▂▃▃▃▄▅▆▆▇▇▇▆▆▅▅▄▃▃▂▁▁▁▁▁▁▁▁ ▁ │223       174 +- 12\n",
      "    omega_0             : -0.981│ ▁  ▁▁▁▁▁▁▁▁▁▂▂▃▄▄▅▆▇▇▆▇▆▅▄▄▃▂▁▁▁▁▁▁ ▁ │-0.360    -0.638 +- 0.071\n",
      "    omega_a             : -2.00 │▇▇▇▇▇▇▆▇▅▆▆▅▅▅▅▅▄▄▄▃▃▃▃▃▂▂▂▂▁▁▁▁▁▁  ▁▁ │1.04      -1.16 +- 0.58\n",
      "\n"
     ]
    }
   ],
   "source": [
    "CPL_sne_frb_cc = sampler_CPL_sne_frb_cc.run(min_num_live_points=400)\n",
    "sampler_CPL_sne_frb_cc.print_results()"
   ]
  },
  {
   "cell_type": "code",
   "execution_count": 30,
   "metadata": {},
   "outputs": [
    {
     "name": "stdout",
     "output_type": "stream",
     "text": [
      "Removed no burn in\n",
      "Removed no burn in\n",
      "Removed no burn in\n",
      "Removed no burn in\n",
      "Removed no burn in\n",
      "Removed no burn in\n",
      "Removed no burn in\n",
      "Removed no burn in\n"
     ]
    }
   ],
   "source": [
    "from getdist import plots, MCSamples\n",
    "\n",
    "# Extraindo amostras dos resultados para frb\n",
    "samples_w_frb = wCDM_frb['samples']\n",
    "samples_CPL_frb = CPL_frb['samples']\n",
    "\n",
    "labels_w_frb = ['h', '\\\\Omega_{b}h^2', '\\\\Omega_{m}h^2', 'DM_{host,0}', '\\\\omega_0']\n",
    "names_w_frb = P_w_frb.param_names\n",
    "mcsamples_w_frb = MCSamples(samples=samples_w_frb, names=names_w_frb, labels=labels_w_frb)\n",
    "\n",
    "labels_CPL_frb = ['h', '\\\\Omega_{b}h^2', '\\\\Omega_{m}h^2', 'DM_{host,0}', '\\\\omega_0', '\\\\omega_a']\n",
    "names_CPL_frb = P_CPL_frb.param_names\n",
    "mcsamples_CPL_frb = MCSamples(samples=samples_CPL_frb, names=names_CPL_frb, labels=labels_CPL_frb)\n",
    "\n",
    "# Extraindo amostras dos resultados para sne\n",
    "samples_w_sne = wCDM_sne['samples']\n",
    "samples_CPL_sne = CPL_sne['samples']\n",
    "\n",
    "labels_w_sne = ['h', '\\\\Omega_{m}h^2', '\\\\omega_0']\n",
    "names_w_sne = P_w_sne.param_names\n",
    "mcsamples_w_sne = MCSamples(samples=samples_w_sne, names=names_w_sne, labels=labels_w_sne)\n",
    "\n",
    "labels_CPL_sne = ['h', '\\\\Omega_{m}h^2', '\\\\omega_0', '\\\\omega_a']\n",
    "names_CPL_sne = P_CPL_sne.param_names\n",
    "mcsamples_CPL_sne = MCSamples(samples=samples_CPL_sne, names=names_CPL_sne, labels=labels_CPL_sne)\n",
    "\n",
    "# Extraindo amostras dos resultados para cc\n",
    "samples_w_cc = wCDM_cc['samples']\n",
    "samples_CPL_cc = CPL_cc['samples']\n",
    "\n",
    "mcsamples_w_cc = MCSamples(samples=samples_w_cc, names=names_w_sne, labels=labels_w_sne)\n",
    "\n",
    "mcsamples_CPL_cc = MCSamples(samples=samples_CPL_cc, names=names_CPL_sne, labels=labels_CPL_sne)\n",
    "\n",
    "# Extraindo amostras dos resultados para sne+frb+cc\n",
    "\n",
    "samples_w_sne_frb_cc = wCDM_sne_frb_cc['samples']\n",
    "samples_CPL_sne_frb_cc = CPL_sne_frb_cc['samples']\n",
    "\n",
    "mcsamples_w_sne_frb_cc = MCSamples(samples=samples_w_sne_frb_cc, names=names_w_frb, labels=labels_w_frb)\n",
    "mcsamples_CPL_sne_frb_cc = MCSamples(samples=samples_CPL_sne_frb_cc, names=names_CPL_frb, labels=labels_CPL_frb)\n",
    "\n"
   ]
  },
  {
   "cell_type": "code",
   "execution_count": 54,
   "metadata": {},
   "outputs": [],
   "source": [
    "mcsamples_w_frb.getMargeStats().saveAsText('Results_mcmc/marginalized_params_w_frb.txt')\n",
    "mcsamples_w_cc.getMargeStats().saveAsText('Results_mcmc/marginalized_params_w_cc.txt')\n",
    "mcsamples_w_sne.getMargeStats().saveAsText('Results_mcmc/marginalized_params_w_sne.txt')\n",
    "mcsamples_w_sne_frb_cc.getMargeStats().saveAsText('Results_mcmc/marginalized_params_w_frb_sne_cc.txt')\n",
    "mcsamples_CPL_frb.getMargeStats().saveAsText('Results_mcmc/marginalized_params_CPL_frb.txt')\n",
    "mcsamples_CPL_cc.getMargeStats().saveAsText('Results_mcmc/marginalized_params_CPL_cc.txt')\n",
    "mcsamples_CPL_sne.getMargeStats().saveAsText('Results_mcmc/marginalized_params_CPL_sne.txt')\n",
    "mcsamples_CPL_sne_frb_cc.getMargeStats().saveAsText('Results_mcmc/marginalized_params_CPL_frb_sne_cc.txt')"
   ]
  },
  {
   "cell_type": "code",
   "execution_count": 53,
   "metadata": {},
   "outputs": [],
   "source": [
    "import pandas as pd\n",
    "\n",
    "# Dicionário de amostras e nomes de arquivos\n",
    "amostras = {\n",
    "    \"w_frb\": samples_w_frb,\n",
    "    \"CPL_frb\": samples_CPL_frb,\n",
    "    \"w_sne\": samples_w_sne,\n",
    "    \"CPL_sne\": samples_CPL_sne,\n",
    "    \"w_cc\": samples_w_cc,\n",
    "    \"CPL_cc\": samples_CPL_cc,\n",
    "    \"w_sne_frb_cc\": samples_w_sne_frb_cc,\n",
    "    \"CPL_sne_frb_cc\": samples_CPL_sne_frb_cc,\n",
    "}\n",
    "\n",
    "# Salva cada conjunto de amostras em arquivos CSV\n",
    "for nome, dados in amostras.items():\n",
    "    df = pd.DataFrame(dados)\n",
    "    df.to_csv(f\"Samplers/{nome}.csv\", index=False)\n"
   ]
  },
  {
   "cell_type": "code",
   "execution_count": null,
   "metadata": {},
   "outputs": [],
   "source": [
    "\"\"\"import pandas as pd\n",
    "df1_frb = pd.read_csv(\"Samplers/samples1_frb.csv\")\n",
    "df1_sne = pd.read_csv(\"Samplers/samples1_sne.csv\")\n",
    "df1_sne_frb = pd.read_csv(\"Samplers/samples1_sne_frb.csv\")\n",
    "df2_frb = pd.read_csv(\"Samplers/samples2_frb.csv\")\n",
    "df2_sne = pd.read_csv(\"Samplers/samples2_sne.csv\")\n",
    "df2_sne_frb = pd.read_csv(\"Samplers/samples2_sne_frb.csv\")\"\"\""
   ]
  },
  {
   "cell_type": "code",
   "execution_count": null,
   "metadata": {},
   "outputs": [],
   "source": [
    "\"\"\"from getdist import plots, MCSamples\n",
    "\n",
    "# Extraindo amostras dos resultados para frb\n",
    "samples1_frb = df1_frb.values\n",
    "samples2_frb = df2_frb.values\n",
    "\n",
    "labels1 = ['H_0', '\\\\Omega_{b}h^2', '\\\\Omega_m', 'DM_{host,0}', '\\\\omega_0']\n",
    "names1 = P_w_frb.param_names\n",
    "mcsamples1_frb = MCSamples(samples=samples1_frb, names=names1, labels=labels1)\n",
    "\n",
    "labels2 = ['H_0', '\\\\Omega_{b}h^2', '\\\\Omega_m', 'DM_{host,0}', '\\\\omega_0', '\\\\omega_a']\n",
    "names2 = P_CPL_frb.param_names\n",
    "mcsamples2_frb = MCSamples(samples=samples2_frb, names=names2, labels=labels2)\n",
    "\n",
    "# Extraindo amostras dos resultados para sne\n",
    "samples1_sne = df1_sne.values\n",
    "samples2_sne = df2_sne.values\n",
    "\n",
    "labels3 = ['H_0', '\\\\Omega_m', '\\\\omega_0']\n",
    "names3 = P_w_sne.param_names\n",
    "mcsamples1_sne = MCSamples(samples=samples1_sne, names=names3, labels=labels3)\n",
    "\n",
    "labels4 = ['H_0', '\\\\Omega_m', '\\\\omega_0', '\\\\omega_a']\n",
    "names4 = P_CPL_sne.param_names\n",
    "mcsamples2_sne = MCSamples(samples=samples2_sne, names=names4, labels=labels4)\n",
    "\n",
    "# Extraindo amostras dos resultados para sne+frb\n",
    "\n",
    "samples1_sne_frb = df1_sne_frb.values\n",
    "samples2_sne_frb = df2_sne_frb.values\n",
    "\n",
    "mcsamples1_sne_frb = MCSamples(samples=samples1_sne_frb, names=names1, labels=labels1)\n",
    "mcsamples2_sne_frb = MCSamples(samples=samples2_sne_frb, names=names2, labels=labels2)\n",
    "\n",
    "\"\"\""
   ]
  },
  {
   "cell_type": "code",
   "execution_count": 44,
   "metadata": {},
   "outputs": [],
   "source": [
    "# Plotando os Triangle plots\n",
    "g = plots.get_subplot_plotter()\n",
    "mcsamples_w_frb.updateSettings({'smooth_scale_2D': 0.9, 'smooth_scale_1D': 0.9})\n",
    "mcsamples_w_sne.updateSettings({'smooth_scale_2D': 0.9, 'smooth_scale_1D': 0.9})\n",
    "mcsamples_w_cc.updateSettings({'smooth_scale_2D': 0.9, 'smooth_scale_1D': 0.9})\n",
    "mcsamples_w_sne_frb_cc.updateSettings({'smooth_scale_2D': 0.9, 'smooth_scale_1D': 0.9})\n",
    "g.settings.num_plot_contours = 2\n",
    "g.triangle_plot([mcsamples_w_frb, mcsamples_w_sne, mcsamples_w_cc, mcsamples_w_sne_frb_cc], ['h', 'omega_0'], filled=True, contour_colors=['green', 'red', 'blue', 'purple'], \n",
    "                legend_labels=['FRB', 'SNe', 'CC', 'FRB + SNe + CC'])\n",
    "g.export('Figuras/wCDM_joint.png', dpi=600)"
   ]
  },
  {
   "cell_type": "code",
   "execution_count": 45,
   "metadata": {},
   "outputs": [],
   "source": [
    "# Plotando os Triangle plots\n",
    "g = plots.get_subplot_plotter()\n",
    "mcsamples_CPL_frb.updateSettings({'smooth_scale_2D': 0.9, 'smooth_scale_1D': 0.9})\n",
    "mcsamples_CPL_sne.updateSettings({'smooth_scale_2D': 0.9, 'smooth_scale_1D': 0.9})\n",
    "mcsamples_CPL_cc.updateSettings({'smooth_scale_2D': 0.9, 'smooth_scale_1D': 0.9})\n",
    "mcsamples_CPL_sne_frb_cc.updateSettings({'smooth_scale_2D': 0.9, 'smooth_scale_1D': 0.9})\n",
    "g.settings.num_plot_contours = 2\n",
    "g.triangle_plot([mcsamples_CPL_frb, mcsamples_CPL_sne, mcsamples_CPL_cc, mcsamples_CPL_sne_frb_cc], ['h', 'omega_0', 'omega_a'], filled=True, contour_colors=['green', 'red', 'blue', 'purple'], \n",
    "                legend_labels=['FRB', 'SNe', 'CC', 'FRB + SNe + CC'])\n",
    "g.export('Figuras/w0waCDM_joint.png', dpi=600)"
   ]
  },
  {
   "cell_type": "code",
   "execution_count": 47,
   "metadata": {},
   "outputs": [],
   "source": [
    "# Plotando os Triangle plots\n",
    "g = plots.get_subplot_plotter()\n",
    "# mcsamples_w_frb.updateSettings({'smooth_scale_2D': 0.9, 'smooth_scale_1D': 0.9})\n",
    "# mcsamples_w_sne.updateSettings({'smooth_scale_2D': 0.9, 'smooth_scale_1D': 0.9})\n",
    "# mcsamples_w_cc.updateSettings({'smooth_scale_2D': 0.9, 'smooth_scale_1D': 0.9})\n",
    "mcsamples_w_sne_frb_cc.updateSettings({'smooth_scale_2D': 0.9, 'smooth_scale_1D': 0.9})\n",
    "g.settings.num_plot_contours = 2\n",
    "g.triangle_plot([mcsamples_w_sne_frb_cc], filled=True, contour_colors=['purple'], \n",
    "                legend_labels=['FRB + SNe + CC'])\n",
    "g.export('Figuras/wCDM_only_joint.png', dpi=600)"
   ]
  },
  {
   "cell_type": "markdown",
   "metadata": {},
   "source": [
    "## Model Comparison"
   ]
  },
  {
   "cell_type": "code",
   "execution_count": 48,
   "metadata": {},
   "outputs": [],
   "source": [
    "samples = {\n",
    "    \"Sample_frb\": {\n",
    "        \"results\": {\n",
    "            'wCDM': {'logz': wCDM_frb['logz'], 'num_params': 5},\n",
    "            'CPL': {'logz': CPL_frb['logz'], 'num_params': 6},\n",
    "        }\n",
    "    },\n",
    "    \"Sample_sne\": {\n",
    "        \"results\": {\n",
    "            'wCDM': {'logz': wCDM_sne['logz'], 'num_params': 5},\n",
    "            'CPL': {'logz': CPL_sne['logz'], 'num_params': 6},\n",
    "        }\n",
    "    },\n",
    "    \"Sample_cc\": {\n",
    "        \"results\": {\n",
    "            'wCDM': {'logz': wCDM_cc['logz'], 'num_params': 5},\n",
    "            'CPL': {'logz': CPL_cc['logz'], 'num_params': 6},\n",
    "        }\n",
    "    },\n",
    "    \"Sample_sne_frb_cc\": {\n",
    "        \"results\": {\n",
    "            'wCDM': {'logz': wCDM_sne_frb_cc['logz'], 'num_params': 5},\n",
    "            'CPL': {'logz': CPL_sne_frb_cc['logz'], 'num_params': 6},\n",
    "        }\n",
    "    }\n",
    "}"
   ]
  },
  {
   "cell_type": "code",
   "execution_count": 49,
   "metadata": {},
   "outputs": [],
   "source": [
    "from bayesian_analysis import ModelComparison\n",
    "\n",
    "comparison = ModelComparison(samples)\n",
    "comparison.run_comparisons(save_to_file='Results_mcmc/comparisons_output_joint.txt')"
   ]
  },
  {
   "cell_type": "code",
   "execution_count": 51,
   "metadata": {},
   "outputs": [],
   "source": [
    "from bayesian_analysis import SaveResults\n",
    "\n",
    "# Initialize the class with the desired output file\n",
    "results_saver = SaveResults(\"Results_mcmc/w0wa_results_frb_sne_cc.txt\")\n",
    "\n",
    "# Optional: Clear the file if you want to start fresh\n",
    "results_saver.reset_file()\n",
    "\n",
    "results_saver.save_to_txt(mcsamples_w_frb, 'wCDM_frb')\n",
    "results_saver.save_to_txt(mcsamples_CPL_frb, 'CPL_frb')\n",
    "results_saver.save_to_txt(mcsamples_w_sne, 'wCDM_sne')\n",
    "results_saver.save_to_txt(mcsamples_CPL_sne, 'CPL_sne')\n",
    "results_saver.save_to_txt(mcsamples_w_cc, 'wCDM_cc')\n",
    "results_saver.save_to_txt(mcsamples_CPL_cc, 'CPL_cc')\n",
    "results_saver.save_to_txt(mcsamples_w_sne_frb_cc, 'wCDM_joint')\n",
    "results_saver.save_to_txt(mcsamples_CPL_sne_frb_cc, 'CPL_joint')\n"
   ]
  },
  {
   "cell_type": "code",
   "execution_count": 52,
   "metadata": {},
   "outputs": [],
   "source": [
    "from bayesian_analysis import CompareMCMCResults\n",
    "\n",
    "comparator = CompareMCMCResults('Results_mcmc/mcmc_comparison_results_w0wa.txt')\n",
    "\n",
    "comparator.reset_file()\n",
    "\n",
    "# Faz a comparação entre os dois modelos\n",
    "comparator.compare_errors(mcsamples_w_frb, mcsamples_w_sne_frb_cc, \"FRB\", \"w-joint\")\n",
    "comparator.compare_errors(mcsamples_w_cc, mcsamples_w_sne_frb_cc, \"CC\", \"w-joint\")\n",
    "comparator.compare_errors(mcsamples_w_sne, mcsamples_w_sne_frb_cc, \"SNe\", \"w-joint\")\n",
    "comparator.compare_errors(mcsamples_CPL_frb, mcsamples_CPL_sne_frb_cc, \"FRB\", \"CPL-joint\")\n",
    "comparator.compare_errors(mcsamples_CPL_cc, mcsamples_CPL_sne_frb_cc, \"CC\", \"CPL-joint\")\n",
    "comparator.compare_errors(mcsamples_CPL_sne, mcsamples_CPL_sne_frb_cc, \"SNe\", \"CPL-joint\")"
   ]
  },
  {
   "cell_type": "code",
   "execution_count": null,
   "metadata": {},
   "outputs": [],
   "source": [
    "\"\"\"from ultranest.plot import PredictionBand\n",
    "from equations import DM_EXT_model\n",
    "import matplotlib.pyplot as plt\n",
    "import numpy as np\n",
    "\n",
    "plt.figure()\n",
    "plt.xlabel('$z$')\n",
    "plt.ylabel('$DM_{ext}(z)$')\n",
    "plt.errorbar(x=z_values_16, y=dm_ext_obs_16, fmt='o', alpha=0.6, color='red', label='16 FRBs', ms=2)\n",
    "\n",
    "z_test = np.linspace(0, 1, 100)\n",
    "\n",
    "band = PredictionBand(z_test)\n",
    "model_fit = DM_EXT_model()\n",
    "# go through the solutions\n",
    "for H_0, A, beta, omega_0, omega_a  in sampler_p2_16.results['samples']:\n",
    "    # compute for each time the y value\n",
    "    band.add(model_fit.DM_ext_th(z=z_test,\n",
    "        f_IGM=0.83,\n",
    "        model_type='constant',\n",
    "        Omega_b=None,  \n",
    "        Omega_m=None,     \n",
    "        H_today=H_0,\n",
    "        A=A,\n",
    "        beta=beta,\n",
    "        omega_0=omega_0,  \n",
    "        omega_a=omega_a,\n",
    "        cosmo_type='non_standard',\n",
    "        param_type='CPL'))\n",
    "\n",
    "band.line(color='k', linestyle='-', label='CPL parameterization', linewidth=1.5)\n",
    "# add 1 sigma quantile\n",
    "band.shade(color='green', alpha=0.3)\n",
    "# add wider quantile (0.01 .. 0.99)\n",
    "band.shade(q=0.49, color='green', alpha=0.2)\n",
    "\n",
    "plt.legend()\n",
    "plt.savefig('Figuras/DM_ext_bestfit_16.png', format='png', dpi=600)\"\"\""
   ]
  },
  {
   "cell_type": "code",
   "execution_count": null,
   "metadata": {},
   "outputs": [],
   "source": [
    "\"\"\"from ultranest.plot import PredictionBand\n",
    "from equations import DM_EXT_model\n",
    "import matplotlib.pyplot as plt\n",
    "import numpy as np\n",
    "\n",
    "plt.figure()\n",
    "plt.xlabel('$z$')\n",
    "plt.ylabel('$DM_{ext}(z)$')\n",
    "plt.errorbar(x=z_values_63, y=dm_ext_obs_63, fmt='o', alpha=0.6, color='red', label='63 FRBs', ms=2)\n",
    "\n",
    "z_test = np.linspace(0, 1.1, 100)\n",
    "\n",
    "band = PredictionBand(z_test)\n",
    "model_fit = DM_EXT_model()\n",
    "# go through the solutions\n",
    "for H_0, A, beta, omega_0  in sampler_constant_63.results['samples']:\n",
    "    # compute for each time the y value\n",
    "    band.add(model_fit.DM_ext_th(z=z_test,\n",
    "        f_IGM=0.83,\n",
    "        model_type='constant',\n",
    "        Omega_b=None,  \n",
    "        Omega_m=None,     \n",
    "        H_today=H_0,\n",
    "        A=A,\n",
    "        beta=beta,\n",
    "        omega_0=omega_0,\n",
    "        cosmo_type='non_standard',\n",
    "        param_type='constant')\n",
    "    )\n",
    "\n",
    "band.line(color='k', linestyle='-', label='Constant parameterization', linewidth=1.5)\n",
    "# add 1 sigma quantile\n",
    "band.shade(color='green', alpha=0.3)\n",
    "# add wider quantile (0.01 .. 0.99)\n",
    "band.shade(q=0.49, color='green', alpha=0.2)\n",
    "\n",
    "plt.legend()\n",
    "plt.savefig('Figuras/DM_ext_bestfit_63.png', format='png', dpi=600)\"\"\""
   ]
  }
 ],
 "metadata": {
  "kernelspec": {
   "display_name": "env_frblip",
   "language": "python",
   "name": "python3"
  },
  "language_info": {
   "codemirror_mode": {
    "name": "ipython",
    "version": 3
   },
   "file_extension": ".py",
   "mimetype": "text/x-python",
   "name": "python",
   "nbconvert_exporter": "python",
   "pygments_lexer": "ipython3",
   "version": "3.10.14"
  }
 },
 "nbformat": 4,
 "nbformat_minor": 4
}
