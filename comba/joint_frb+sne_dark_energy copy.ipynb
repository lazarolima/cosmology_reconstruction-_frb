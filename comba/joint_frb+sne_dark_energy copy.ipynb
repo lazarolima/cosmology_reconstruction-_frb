{
 "cells": [
  {
   "cell_type": "markdown",
   "metadata": {},
   "source": [
    "# Bayesian analysis and MCMC"
   ]
  },
  {
   "cell_type": "markdown",
   "metadata": {},
   "source": [
    "## Defining priors"
   ]
  },
  {
   "cell_type": "code",
   "execution_count": 1,
   "metadata": {},
   "outputs": [],
   "source": [
    "from likelihood import JointPriors\n",
    "\n",
    "# Defining the priors and the type of distribuition\n",
    "param_configs_w_frb = {\n",
    "    'H0': ((20, 100), 'uniform'),\n",
    "    'Omega_bh2': ((0, 0.05), 'uniform'), \n",
    "    'Omega_m': ((0.1, 0.5), 'uniform'),\n",
    "    'DM_host_0': ((55, 225), 'uniform'),\n",
    "    'w0_fld': ((-2, 0), 'uniform')\n",
    "}\n",
    "\n",
    "param_configs_CPL_frb = {\n",
    "    'H0': ((20, 100), 'uniform'),\n",
    "    'Omega_bh2': ((0, 0.05), 'uniform'), \n",
    "    'Omega_m': ((0.1, 0.5), 'uniform'),\n",
    "    'DM_host_0': ((55, 225), 'uniform'),\n",
    "    'w0_fld': ((-2, 0), 'uniform'),\n",
    "    'omega_a': ((-2, 2), 'uniform')\n",
    "}\n",
    "\n",
    "from desilike.theories import Cosmoprimo\n",
    "\n",
    "# Configurando o modelo cosmológico\n",
    "cosmo = Cosmoprimo(engine='camb')\n",
    "\n",
    "## Set priors\n",
    "cosmo.init.params = {'Omega_m': {'prior': {'limits': [0.1, 0.9]}},\n",
    "                     \n",
    "                     'H0': {'prior': {'limits': [20, 100]}},\n",
    "\n",
    "                     #'w0_fld': {'prior': {'limits': [-2, -0.3]}}\n",
    "                     }\n",
    "\n",
    "# Convertendo os parâmetros do cosmoprimo\n",
    "cosmo_params_converted = JointPriors.convert_cosmo_params(cosmo.init.params)\n",
    "\n",
    "P_w_frb = JointPriors(param_configs_w_frb)\n",
    "P_w_sne = JointPriors(cosmo_params_converted)"
   ]
  },
  {
   "cell_type": "markdown",
   "metadata": {},
   "source": [
    "### Models and parameters"
   ]
  },
  {
   "cell_type": "code",
   "execution_count": 2,
   "metadata": {},
   "outputs": [
    {
     "data": {
      "text/plain": [
       "'LF_w_sne_frb = JointLikelihoodFunction(\\n    model_funcs = { \\'FRB\\': lambda z, Omega_bh2, H0, Omega_m, DM_host_0, omega_0: model.DM_ext_th(\\n        z=z,\\n        f_IGM=0.83,\\n        model_type=\\'constant\\',\\n        Omega_bh2=Omega_bh2, \\n        H0=H0, \\n        Omega_m=Omega_m,     \\n        DM_host_0=DM_host_0,\\n        omega_0=omega_0,  \\n        cosmo_type=\\'non_standard\\',\\n        param_type=\\'constant\\'\\n    ) },\\n\\n    desilike_likelihoods=desilike_likelihoods,\\n\\n    shared_params= [\"H0\", \"Omega_m\", \"omega_0\"]\\n)'"
      ]
     },
     "execution_count": 2,
     "metadata": {},
     "output_type": "execute_result"
    }
   ],
   "source": [
    "from likelihood import JointLikelihoodFunction\n",
    "from equations import DM_EXT_model, Modulus_sne\n",
    "\n",
    "\n",
    "\"\"\"# Configurando as likelihoods do desilike\n",
    "desilike_likelihoods = {\n",
    "    #'Pantheon': PantheonSNLikelihood(cosmo=cosmo),\n",
    "    #'Pantheon+': PantheonPlusSNLikelihood(cosmo=cosmo),\n",
    "    'Pantheon+ & SH0ES': PantheonPlusSHOESSNLikelihood(cosmo=cosmo)\n",
    "}\"\"\"\n",
    "\n",
    "model = DM_EXT_model()\n",
    "mu_wCDM = Modulus_sne()\n",
    "\n",
    "# Creating an instance of JointLikelihoodFunction\n",
    "LF_w_frb = JointLikelihoodFunction(\n",
    "    model_funcs= { 'FRB': lambda z, Omega_bh2, H0, Omega_m, DM_host_0, w0_fld: model.DM_ext_th(\n",
    "        z=z,\n",
    "        f_IGM=0.83,\n",
    "        model_type='constant',\n",
    "        Omega_bh2=Omega_bh2,  \n",
    "        Omega_m=Omega_m,\n",
    "        H0=H0,     \n",
    "        DM_host_0=DM_host_0,\n",
    "        omega_0=w0_fld,  \n",
    "        cosmo_type='non_standard',\n",
    "        param_type='constant'\n",
    "    ) \n",
    "    }\n",
    ")\n",
    "\n",
    "LF_w_sne = JointLikelihoodFunction(cosmo=cosmo)\n",
    "\n",
    "\n",
    "\"\"\"LF_w_sne_frb = JointLikelihoodFunction(\n",
    "    model_funcs = { 'FRB': lambda z, Omega_bh2, H0, Omega_m, DM_host_0, omega_0: model.DM_ext_th(\n",
    "        z=z,\n",
    "        f_IGM=0.83,\n",
    "        model_type='constant',\n",
    "        Omega_bh2=Omega_bh2, \n",
    "        H0=H0, \n",
    "        Omega_m=Omega_m,     \n",
    "        DM_host_0=DM_host_0,\n",
    "        omega_0=omega_0,  \n",
    "        cosmo_type='non_standard',\n",
    "        param_type='constant'\n",
    "    ) },\n",
    "\n",
    "    desilike_likelihoods=desilike_likelihoods,\n",
    "\n",
    "    shared_params= [\"H0\", \"Omega_m\", \"omega_0\"]\n",
    ")\"\"\""
   ]
  },
  {
   "cell_type": "markdown",
   "metadata": {},
   "source": [
    "## Preparing the samples"
   ]
  },
  {
   "cell_type": "markdown",
   "metadata": {},
   "source": [
    "### Analysis for 66 FRBs"
   ]
  },
  {
   "cell_type": "code",
   "execution_count": 3,
   "metadata": {},
   "outputs": [
    {
     "name": "stdout",
     "output_type": "stream",
     "text": [
      "[000000.25] [0/1] 10-25 17:10  ultranest                 DEBUG    ReactiveNestedSampler: dims=5+0, resume=False, log_dir=None, backend=hdf5, vectorized=False, nbootstraps=30, ndraw=128..65536\n"
     ]
    },
    {
     "ename": "PipelineError",
     "evalue": "Error in method initialize of <likelihood.JointLikelihoodFunction object at 0x7f5c101d74d0>",
     "output_type": "error",
     "traceback": [
      "\u001b[0;31m---------------------------------------------------------------------------\u001b[0m",
      "\u001b[0;31mAttributeError\u001b[0m                            Traceback (most recent call last)",
      "File \u001b[0;32m~/.local/lib/python3.12/site-packages/desilike-1.0.0-py3.12.egg/desilike/base.py:1169\u001b[0m, in \u001b[0;36mBaseCalculator.__getattr__\u001b[0;34m(self, name)\u001b[0m\n\u001b[1;32m   1168\u001b[0m \u001b[38;5;28;01mtry\u001b[39;00m:\n\u001b[0;32m-> 1169\u001b[0m     \u001b[38;5;28;01mreturn\u001b[39;00m \u001b[38;5;28;43mobject\u001b[39;49m\u001b[38;5;241;43m.\u001b[39;49m\u001b[38;5;21;43m__getattribute__\u001b[39;49m\u001b[43m(\u001b[49m\u001b[38;5;28;43mself\u001b[39;49m\u001b[43m,\u001b[49m\u001b[43m \u001b[49m\u001b[43mname\u001b[49m\u001b[43m)\u001b[49m\n\u001b[1;32m   1170\u001b[0m \u001b[38;5;28;01mexcept\u001b[39;00m \u001b[38;5;167;01mAttributeError\u001b[39;00m \u001b[38;5;28;01mas\u001b[39;00m exc:\n",
      "\u001b[0;31mAttributeError\u001b[0m: 'JointLikelihoodFunction' object has no attribute 'cosmo'",
      "\nThe above exception was the direct cause of the following exception:\n",
      "\u001b[0;31mAttributeError\u001b[0m                            Traceback (most recent call last)",
      "File \u001b[0;32m~/.local/lib/python3.12/site-packages/desilike-1.0.0-py3.12.egg/desilike/base.py:984\u001b[0m, in \u001b[0;36mRuntimeInfo.initialize\u001b[0;34m(self)\u001b[0m\n\u001b[1;32m    983\u001b[0m \u001b[38;5;28;01mtry\u001b[39;00m:\n\u001b[0;32m--> 984\u001b[0m     \u001b[38;5;28;43mself\u001b[39;49m\u001b[38;5;241;43m.\u001b[39;49m\u001b[43mcalculator\u001b[49m\u001b[38;5;241;43m.\u001b[39;49m\u001b[43minitialize\u001b[49m\u001b[43m(\u001b[49m\u001b[38;5;241;43m*\u001b[39;49m\u001b[38;5;28;43mself\u001b[39;49m\u001b[38;5;241;43m.\u001b[39;49m\u001b[43minit\u001b[49m\u001b[38;5;241;43m.\u001b[39;49m\u001b[43margs\u001b[49m\u001b[43m,\u001b[49m\u001b[43m \u001b[49m\u001b[38;5;241;43m*\u001b[39;49m\u001b[38;5;241;43m*\u001b[39;49m\u001b[38;5;28;43mself\u001b[39;49m\u001b[38;5;241;43m.\u001b[39;49m\u001b[43minit\u001b[49m\u001b[43m)\u001b[49m\n\u001b[1;32m    985\u001b[0m \u001b[38;5;28;01mexcept\u001b[39;00m \u001b[38;5;167;01mException\u001b[39;00m \u001b[38;5;28;01mas\u001b[39;00m exc:\n",
      "File \u001b[0;32m~/comba_atual/comba/likelihood.py:323\u001b[0m, in \u001b[0;36mJointLikelihoodFunction.initialize\u001b[0;34m(self, *args, **kwargs)\u001b[0m\n\u001b[1;32m    322\u001b[0m \u001b[38;5;66;03m# Chama o initialize da classe pai com os argumentos filtrados\u001b[39;00m\n\u001b[0;32m--> 323\u001b[0m \u001b[38;5;28msuper\u001b[39m()\u001b[38;5;241m.\u001b[39minitialize(\u001b[38;5;241m*\u001b[39margs, \u001b[38;5;241m*\u001b[39m\u001b[38;5;241m*\u001b[39mparent_kwargs, cosmo\u001b[38;5;241m=\u001b[39m\u001b[38;5;28;43mself\u001b[39;49m\u001b[38;5;241;43m.\u001b[39;49m\u001b[43mcosmo\u001b[49m)\n",
      "File \u001b[0;32m~/.local/lib/python3.12/site-packages/desilike-1.0.0-py3.12.egg/desilike/base.py:1171\u001b[0m, in \u001b[0;36mBaseCalculator.__getattr__\u001b[0;34m(self, name)\u001b[0m\n\u001b[1;32m   1170\u001b[0m \u001b[38;5;28;01mexcept\u001b[39;00m \u001b[38;5;167;01mAttributeError\u001b[39;00m \u001b[38;5;28;01mas\u001b[39;00m exc:\n\u001b[0;32m-> 1171\u001b[0m     \u001b[38;5;28;01mraise\u001b[39;00m \u001b[38;5;167;01mAttributeError\u001b[39;00m(\u001b[38;5;124m'\u001b[39m\u001b[38;5;124mcalculator \u001b[39m\u001b[38;5;132;01m{}\u001b[39;00m\u001b[38;5;124m has no attribute \u001b[39m\u001b[38;5;132;01m{}\u001b[39;00m\u001b[38;5;124m; \u001b[39m\u001b[38;5;124m'\u001b[39m\n\u001b[1;32m   1172\u001b[0m                          \u001b[38;5;124m'\u001b[39m\u001b[38;5;124mhave you run any calculation already by calling this calculator or calculators \u001b[39m\u001b[38;5;124m'\u001b[39m\n\u001b[1;32m   1173\u001b[0m                          \u001b[38;5;124m'\u001b[39m\u001b[38;5;124mthat depend on it (typically, a likelihood?)\u001b[39m\u001b[38;5;124m'\u001b[39m\u001b[38;5;241m.\u001b[39mformat(\u001b[38;5;28mself\u001b[39m\u001b[38;5;241m.\u001b[39m\u001b[38;5;18m__class__\u001b[39m\u001b[38;5;241m.\u001b[39m\u001b[38;5;18m__name__\u001b[39m, name)) \u001b[38;5;28;01mfrom\u001b[39;00m \u001b[38;5;21;01mexc\u001b[39;00m\n",
      "\u001b[0;31mAttributeError\u001b[0m: calculator JointLikelihoodFunction has no attribute cosmo; have you run any calculation already by calling this calculator or calculators that depend on it (typically, a likelihood?)",
      "\nThe above exception was the direct cause of the following exception:\n",
      "\u001b[0;31mPipelineError\u001b[0m                             Traceback (most recent call last)",
      "Cell \u001b[0;32mIn[3], line 11\u001b[0m\n\u001b[1;32m      8\u001b[0m z_frb, DM_ext, sigma_ext \u001b[38;5;241m=\u001b[39m frb_data\u001b[38;5;241m.\u001b[39mselect_data()\n\u001b[1;32m     10\u001b[0m \u001b[38;5;66;03m# Configuring the ultranest samplers\u001b[39;00m\n\u001b[0;32m---> 11\u001b[0m sampler_w_frb \u001b[38;5;241m=\u001b[39m \u001b[43multranest\u001b[49m\u001b[38;5;241;43m.\u001b[39;49m\u001b[43mReactiveNestedSampler\u001b[49m\u001b[43m(\u001b[49m\n\u001b[1;32m     12\u001b[0m \u001b[43m    \u001b[49m\u001b[43mP_w_frb\u001b[49m\u001b[38;5;241;43m.\u001b[39;49m\u001b[43mparam_names\u001b[49m\u001b[43m,\u001b[49m\n\u001b[1;32m     13\u001b[0m \u001b[43m    \u001b[49m\u001b[38;5;28;43;01mlambda\u001b[39;49;00m\u001b[43m \u001b[49m\u001b[43mparams\u001b[49m\u001b[43m:\u001b[49m\u001b[43m \u001b[49m\u001b[43mLF_w_frb\u001b[49m\u001b[38;5;241;43m.\u001b[39;49m\u001b[43mlog_likelihood\u001b[49m\u001b[43m(\u001b[49m\n\u001b[1;32m     14\u001b[0m \u001b[43m        \u001b[49m\u001b[38;5;28;43mdict\u001b[39;49m\u001b[43m(\u001b[49m\u001b[38;5;28;43mzip\u001b[39;49m\u001b[43m(\u001b[49m\u001b[43mP_w_frb\u001b[49m\u001b[38;5;241;43m.\u001b[39;49m\u001b[43mparam_names\u001b[49m\u001b[43m,\u001b[49m\u001b[43m \u001b[49m\u001b[43mparams\u001b[49m\u001b[43m)\u001b[49m\u001b[43m)\u001b[49m\u001b[43m,\u001b[49m\n\u001b[1;32m     15\u001b[0m \u001b[43m        \u001b[49m\u001b[43m{\u001b[49m\n\u001b[1;32m     16\u001b[0m \u001b[43m            \u001b[49m\u001b[38;5;124;43m'\u001b[39;49m\u001b[38;5;124;43mFRB\u001b[39;49m\u001b[38;5;124;43m'\u001b[39;49m\u001b[43m:\u001b[49m\u001b[43m \u001b[49m\u001b[43m(\u001b[49m\u001b[43mz_frb\u001b[49m\u001b[43m,\u001b[49m\u001b[43m \u001b[49m\u001b[43mDM_ext\u001b[49m\u001b[43m,\u001b[49m\u001b[43m \u001b[49m\u001b[43msigma_ext\u001b[49m\u001b[43m)\u001b[49m\n\u001b[1;32m     17\u001b[0m \u001b[43m        \u001b[49m\u001b[43m}\u001b[49m\n\u001b[1;32m     18\u001b[0m \u001b[43m    \u001b[49m\u001b[43m)\u001b[49m\u001b[43m,\u001b[49m\n\u001b[1;32m     19\u001b[0m \u001b[43m    \u001b[49m\u001b[43mP_w_frb\u001b[49m\u001b[38;5;241;43m.\u001b[39;49m\u001b[43mprior_transform\u001b[49m\n\u001b[1;32m     20\u001b[0m \u001b[43m)\u001b[49m\n\u001b[1;32m     22\u001b[0m \u001b[38;5;124;03m\"\"\"sampler_w_sne = ultranest.ReactiveNestedSampler(\u001b[39;00m\n\u001b[1;32m     23\u001b[0m \u001b[38;5;124;03m    P_w_sne.param_names,\u001b[39;00m\n\u001b[1;32m     24\u001b[0m \u001b[38;5;124;03m    lambda params: LF_w_sne.log_likelihood(\u001b[39;00m\n\u001b[0;32m   (...)\u001b[0m\n\u001b[1;32m     27\u001b[0m \u001b[38;5;124;03m    P_w_sne.prior_transform\u001b[39;00m\n\u001b[1;32m     28\u001b[0m \u001b[38;5;124;03m)\"\"\"\u001b[39;00m\n\u001b[1;32m     30\u001b[0m \u001b[38;5;124;03m\"\"\"sampler_w_sne = ultranest.ReactiveNestedSampler(\u001b[39;00m\n\u001b[1;32m     31\u001b[0m \u001b[38;5;124;03m    P_w_sne.param_names,\u001b[39;00m\n\u001b[1;32m     32\u001b[0m \u001b[38;5;124;03m    lambda params: LF_w_sne.log_likelihood(\u001b[39;00m\n\u001b[0;32m   (...)\u001b[0m\n\u001b[1;32m     35\u001b[0m \u001b[38;5;124;03m    P_w_sne.prior_transform\u001b[39;00m\n\u001b[1;32m     36\u001b[0m \u001b[38;5;124;03m)\"\"\"\u001b[39;00m\n",
      "File \u001b[0;32m~/.local/lib/python3.12/site-packages/ultranest/integrator.py:1208\u001b[0m, in \u001b[0;36mReactiveNestedSampler.__init__\u001b[0;34m(self, param_names, loglike, transform, derived_param_names, wrapped_params, resume, run_num, log_dir, num_test_samples, draw_multiple, num_bootstraps, vectorized, ndraw_min, ndraw_max, storage_backend, warmstart_max_tau)\u001b[0m\n\u001b[1;32m   1206\u001b[0m \u001b[38;5;28mself\u001b[39m\u001b[38;5;241m.\u001b[39mndraw_max \u001b[38;5;241m=\u001b[39m ndraw_max\n\u001b[1;32m   1207\u001b[0m \u001b[38;5;28mself\u001b[39m\u001b[38;5;241m.\u001b[39mbuild_tregion \u001b[38;5;241m=\u001b[39m transform \u001b[38;5;129;01mis\u001b[39;00m \u001b[38;5;129;01mnot\u001b[39;00m \u001b[38;5;28;01mNone\u001b[39;00m\n\u001b[0;32m-> 1208\u001b[0m \u001b[38;5;28;01mif\u001b[39;00m \u001b[38;5;129;01mnot\u001b[39;00m \u001b[38;5;28;43mself\u001b[39;49m\u001b[38;5;241;43m.\u001b[39;49m\u001b[43m_check_likelihood_function\u001b[49m\u001b[43m(\u001b[49m\u001b[43mtransform\u001b[49m\u001b[43m,\u001b[49m\u001b[43m \u001b[49m\u001b[43mloglike\u001b[49m\u001b[43m,\u001b[49m\u001b[43m \u001b[49m\u001b[43mnum_test_samples\u001b[49m\u001b[43m)\u001b[49m:\n\u001b[1;32m   1209\u001b[0m     \u001b[38;5;28;01massert\u001b[39;00m \u001b[38;5;28mself\u001b[39m\u001b[38;5;241m.\u001b[39mlog_to_disk\n\u001b[1;32m   1210\u001b[0m     \u001b[38;5;28;01mif\u001b[39;00m resume_similar \u001b[38;5;129;01mand\u001b[39;00m \u001b[38;5;28mself\u001b[39m\u001b[38;5;241m.\u001b[39mlog_to_disk:\n",
      "File \u001b[0;32m~/.local/lib/python3.12/site-packages/ultranest/integrator.py:1270\u001b[0m, in \u001b[0;36mReactiveNestedSampler._check_likelihood_function\u001b[0;34m(self, transform, loglike, num_test_samples)\u001b[0m\n\u001b[1;32m   1266\u001b[0m p \u001b[38;5;241m=\u001b[39m transform(u) \u001b[38;5;28;01mif\u001b[39;00m transform \u001b[38;5;129;01mis\u001b[39;00m \u001b[38;5;129;01mnot\u001b[39;00m \u001b[38;5;28;01mNone\u001b[39;00m \u001b[38;5;28;01melse\u001b[39;00m u\n\u001b[1;32m   1267\u001b[0m \u001b[38;5;28;01massert\u001b[39;00m np\u001b[38;5;241m.\u001b[39mshape(p) \u001b[38;5;241m==\u001b[39m (num_test_samples, \u001b[38;5;28mself\u001b[39m\u001b[38;5;241m.\u001b[39mnum_params), (\n\u001b[1;32m   1268\u001b[0m     \u001b[38;5;124m\"\u001b[39m\u001b[38;5;124mError in transform function: returned shape is \u001b[39m\u001b[38;5;132;01m%s\u001b[39;00m\u001b[38;5;124m, expected \u001b[39m\u001b[38;5;132;01m%s\u001b[39;00m\u001b[38;5;124m\"\u001b[39m \u001b[38;5;241m%\u001b[39m (\n\u001b[1;32m   1269\u001b[0m         np\u001b[38;5;241m.\u001b[39mshape(p), (num_test_samples, \u001b[38;5;28mself\u001b[39m\u001b[38;5;241m.\u001b[39mnum_params)))\n\u001b[0;32m-> 1270\u001b[0m logl \u001b[38;5;241m=\u001b[39m \u001b[43mloglike\u001b[49m\u001b[43m(\u001b[49m\u001b[43mp\u001b[49m\u001b[43m)\u001b[49m\n\u001b[1;32m   1271\u001b[0m \u001b[38;5;28;01massert\u001b[39;00m np\u001b[38;5;241m.\u001b[39mlogical_and(u \u001b[38;5;241m>\u001b[39m \u001b[38;5;241m0\u001b[39m, u \u001b[38;5;241m<\u001b[39m \u001b[38;5;241m1\u001b[39m)\u001b[38;5;241m.\u001b[39mall(), (\n\u001b[1;32m   1272\u001b[0m     \u001b[38;5;124m\"\u001b[39m\u001b[38;5;124mError in transform function: u was modified!\u001b[39m\u001b[38;5;124m\"\u001b[39m)\n\u001b[1;32m   1273\u001b[0m \u001b[38;5;28;01massert\u001b[39;00m np\u001b[38;5;241m.\u001b[39mshape(logl) \u001b[38;5;241m==\u001b[39m (num_test_samples,), (\n\u001b[1;32m   1274\u001b[0m     \u001b[38;5;124m\"\u001b[39m\u001b[38;5;124mError in loglikelihood function: returned shape is \u001b[39m\u001b[38;5;132;01m%s\u001b[39;00m\u001b[38;5;124m, expected \u001b[39m\u001b[38;5;132;01m%s\u001b[39;00m\u001b[38;5;124m\"\u001b[39m \u001b[38;5;241m%\u001b[39m (np\u001b[38;5;241m.\u001b[39mshape(logl), (num_test_samples,)))\n",
      "File \u001b[0;32m~/.local/lib/python3.12/site-packages/ultranest/utils.py:137\u001b[0m, in \u001b[0;36mvectorize.<locals>.vectorized\u001b[0;34m(args)\u001b[0m\n\u001b[1;32m    135\u001b[0m \u001b[38;5;28;01mdef\u001b[39;00m \u001b[38;5;21mvectorized\u001b[39m(args):\n\u001b[1;32m    136\u001b[0m \u001b[38;5;250m    \u001b[39m\u001b[38;5;124;03m\"\"\"Vectorized version of function.\"\"\"\u001b[39;00m\n\u001b[0;32m--> 137\u001b[0m     \u001b[38;5;28;01mreturn\u001b[39;00m np\u001b[38;5;241m.\u001b[39masarray([\u001b[43mfunction\u001b[49m\u001b[43m(\u001b[49m\u001b[43marg\u001b[49m\u001b[43m)\u001b[49m \u001b[38;5;28;01mfor\u001b[39;00m arg \u001b[38;5;129;01min\u001b[39;00m args])\n",
      "Cell \u001b[0;32mIn[3], line 13\u001b[0m, in \u001b[0;36m<lambda>\u001b[0;34m(params)\u001b[0m\n\u001b[1;32m      8\u001b[0m z_frb, DM_ext, sigma_ext \u001b[38;5;241m=\u001b[39m frb_data\u001b[38;5;241m.\u001b[39mselect_data()\n\u001b[1;32m     10\u001b[0m \u001b[38;5;66;03m# Configuring the ultranest samplers\u001b[39;00m\n\u001b[1;32m     11\u001b[0m sampler_w_frb \u001b[38;5;241m=\u001b[39m ultranest\u001b[38;5;241m.\u001b[39mReactiveNestedSampler(\n\u001b[1;32m     12\u001b[0m     P_w_frb\u001b[38;5;241m.\u001b[39mparam_names,\n\u001b[0;32m---> 13\u001b[0m     \u001b[38;5;28;01mlambda\u001b[39;00m params: \u001b[43mLF_w_frb\u001b[49m\u001b[38;5;241;43m.\u001b[39;49m\u001b[43mlog_likelihood\u001b[49m\u001b[43m(\u001b[49m\n\u001b[1;32m     14\u001b[0m \u001b[43m        \u001b[49m\u001b[38;5;28;43mdict\u001b[39;49m\u001b[43m(\u001b[49m\u001b[38;5;28;43mzip\u001b[39;49m\u001b[43m(\u001b[49m\u001b[43mP_w_frb\u001b[49m\u001b[38;5;241;43m.\u001b[39;49m\u001b[43mparam_names\u001b[49m\u001b[43m,\u001b[49m\u001b[43m \u001b[49m\u001b[43mparams\u001b[49m\u001b[43m)\u001b[49m\u001b[43m)\u001b[49m\u001b[43m,\u001b[49m\n\u001b[1;32m     15\u001b[0m \u001b[43m        \u001b[49m\u001b[43m{\u001b[49m\n\u001b[1;32m     16\u001b[0m \u001b[43m            \u001b[49m\u001b[38;5;124;43m'\u001b[39;49m\u001b[38;5;124;43mFRB\u001b[39;49m\u001b[38;5;124;43m'\u001b[39;49m\u001b[43m:\u001b[49m\u001b[43m \u001b[49m\u001b[43m(\u001b[49m\u001b[43mz_frb\u001b[49m\u001b[43m,\u001b[49m\u001b[43m \u001b[49m\u001b[43mDM_ext\u001b[49m\u001b[43m,\u001b[49m\u001b[43m \u001b[49m\u001b[43msigma_ext\u001b[49m\u001b[43m)\u001b[49m\n\u001b[1;32m     17\u001b[0m \u001b[43m        \u001b[49m\u001b[43m}\u001b[49m\n\u001b[1;32m     18\u001b[0m \u001b[43m    \u001b[49m\u001b[43m)\u001b[49m,\n\u001b[1;32m     19\u001b[0m     P_w_frb\u001b[38;5;241m.\u001b[39mprior_transform\n\u001b[1;32m     20\u001b[0m )\n\u001b[1;32m     22\u001b[0m \u001b[38;5;124;03m\"\"\"sampler_w_sne = ultranest.ReactiveNestedSampler(\u001b[39;00m\n\u001b[1;32m     23\u001b[0m \u001b[38;5;124;03m    P_w_sne.param_names,\u001b[39;00m\n\u001b[1;32m     24\u001b[0m \u001b[38;5;124;03m    lambda params: LF_w_sne.log_likelihood(\u001b[39;00m\n\u001b[0;32m   (...)\u001b[0m\n\u001b[1;32m     27\u001b[0m \u001b[38;5;124;03m    P_w_sne.prior_transform\u001b[39;00m\n\u001b[1;32m     28\u001b[0m \u001b[38;5;124;03m)\"\"\"\u001b[39;00m\n\u001b[1;32m     30\u001b[0m \u001b[38;5;124;03m\"\"\"sampler_w_sne = ultranest.ReactiveNestedSampler(\u001b[39;00m\n\u001b[1;32m     31\u001b[0m \u001b[38;5;124;03m    P_w_sne.param_names,\u001b[39;00m\n\u001b[1;32m     32\u001b[0m \u001b[38;5;124;03m    lambda params: LF_w_sne.log_likelihood(\u001b[39;00m\n\u001b[0;32m   (...)\u001b[0m\n\u001b[1;32m     35\u001b[0m \u001b[38;5;124;03m    P_w_sne.prior_transform\u001b[39;00m\n\u001b[1;32m     36\u001b[0m \u001b[38;5;124;03m)\"\"\"\u001b[39;00m\n",
      "File \u001b[0;32m~/comba_atual/comba/likelihood.py:345\u001b[0m, in \u001b[0;36mJointLikelihoodFunction.log_likelihood\u001b[0;34m(self, params, data_sets)\u001b[0m\n\u001b[1;32m    342\u001b[0m total_loglike \u001b[38;5;241m=\u001b[39m \u001b[38;5;241m0\u001b[39m\n\u001b[1;32m    344\u001b[0m \u001b[38;5;66;03m# Calcula a verossimilhança para \"Pantheon+ & SH0ES\", se aplicável\u001b[39;00m\n\u001b[0;32m--> 345\u001b[0m \u001b[38;5;28;01mif\u001b[39;00m \u001b[38;5;28;43mself\u001b[39;49m\u001b[38;5;241;43m.\u001b[39;49m\u001b[43mcosmo\u001b[49m \u001b[38;5;129;01mis\u001b[39;00m \u001b[38;5;129;01mnot\u001b[39;00m \u001b[38;5;28;01mNone\u001b[39;00m:\n\u001b[1;32m    346\u001b[0m     loglike \u001b[38;5;241m=\u001b[39m \u001b[38;5;28mself\u001b[39m\u001b[38;5;241m.\u001b[39mcalculate()\n\u001b[1;32m    347\u001b[0m     total_loglike \u001b[38;5;241m+\u001b[39m\u001b[38;5;241m=\u001b[39m loglike\n",
      "File \u001b[0;32m~/.local/lib/python3.12/site-packages/desilike-1.0.0-py3.12.egg/desilike/base.py:1167\u001b[0m, in \u001b[0;36mBaseCalculator.__getattr__\u001b[0;34m(self, name)\u001b[0m\n\u001b[1;32m   1165\u001b[0m \u001b[38;5;28;01mdef\u001b[39;00m \u001b[38;5;21m__getattr__\u001b[39m(\u001b[38;5;28mself\u001b[39m, name):\n\u001b[1;32m   1166\u001b[0m     \u001b[38;5;28;01mif\u001b[39;00m \u001b[38;5;129;01mnot\u001b[39;00m \u001b[38;5;28mgetattr\u001b[39m(\u001b[38;5;28mself\u001b[39m\u001b[38;5;241m.\u001b[39mruntime_info, \u001b[38;5;124m'\u001b[39m\u001b[38;5;124m_initialization\u001b[39m\u001b[38;5;124m'\u001b[39m, \u001b[38;5;28;01mFalse\u001b[39;00m):\n\u001b[0;32m-> 1167\u001b[0m         \u001b[38;5;28;43mself\u001b[39;49m\u001b[38;5;241;43m.\u001b[39;49m\u001b[43mruntime_info\u001b[49m\u001b[38;5;241;43m.\u001b[39;49m\u001b[43minitialize\u001b[49m\u001b[43m(\u001b[49m\u001b[43m)\u001b[49m\n\u001b[1;32m   1168\u001b[0m     \u001b[38;5;28;01mtry\u001b[39;00m:\n\u001b[1;32m   1169\u001b[0m         \u001b[38;5;28;01mreturn\u001b[39;00m \u001b[38;5;28mobject\u001b[39m\u001b[38;5;241m.\u001b[39m\u001b[38;5;21m__getattribute__\u001b[39m(\u001b[38;5;28mself\u001b[39m, name)\n",
      "File \u001b[0;32m~/.local/lib/python3.12/site-packages/desilike-1.0.0-py3.12.egg/desilike/base.py:986\u001b[0m, in \u001b[0;36mRuntimeInfo.initialize\u001b[0;34m(self)\u001b[0m\n\u001b[1;32m    984\u001b[0m     \u001b[38;5;28mself\u001b[39m\u001b[38;5;241m.\u001b[39mcalculator\u001b[38;5;241m.\u001b[39minitialize(\u001b[38;5;241m*\u001b[39m\u001b[38;5;28mself\u001b[39m\u001b[38;5;241m.\u001b[39minit\u001b[38;5;241m.\u001b[39margs, \u001b[38;5;241m*\u001b[39m\u001b[38;5;241m*\u001b[39m\u001b[38;5;28mself\u001b[39m\u001b[38;5;241m.\u001b[39minit)\n\u001b[1;32m    985\u001b[0m \u001b[38;5;28;01mexcept\u001b[39;00m \u001b[38;5;167;01mException\u001b[39;00m \u001b[38;5;28;01mas\u001b[39;00m exc:\n\u001b[0;32m--> 986\u001b[0m     \u001b[38;5;28;01mraise\u001b[39;00m PipelineError(\u001b[38;5;124m'\u001b[39m\u001b[38;5;124mError in method initialize of \u001b[39m\u001b[38;5;132;01m{}\u001b[39;00m\u001b[38;5;124m'\u001b[39m\u001b[38;5;241m.\u001b[39mformat(\u001b[38;5;28mself\u001b[39m\u001b[38;5;241m.\u001b[39mcalculator)) \u001b[38;5;28;01mfrom\u001b[39;00m \u001b[38;5;21;01mexc\u001b[39;00m\n\u001b[1;32m    987\u001b[0m \u001b[38;5;28;01mif\u001b[39;00m \u001b[38;5;129;01mnot\u001b[39;00m \u001b[38;5;28mself\u001b[39m\u001b[38;5;241m.\u001b[39m_initialize_with_namespace:\n\u001b[1;32m    988\u001b[0m     \u001b[38;5;28;01mfor\u001b[39;00m param \u001b[38;5;129;01min\u001b[39;00m \u001b[38;5;28mself\u001b[39m\u001b[38;5;241m.\u001b[39minit\u001b[38;5;241m.\u001b[39mparams:\n",
      "\u001b[0;31mPipelineError\u001b[0m: Error in method initialize of <likelihood.JointLikelihoodFunction object at 0x7f5c101d74d0>"
     ]
    }
   ],
   "source": [
    "from obs_data import FRB_data, SNe_data\n",
    "import ultranest\n",
    "\n",
    "# Instantiate the FRB_data class for 66 FRBs\n",
    "frb_data = FRB_data(n_frb=66)\n",
    "\n",
    "# Call the select_data method to get the observed data\n",
    "z_frb, DM_ext, sigma_ext = frb_data.select_data()\n",
    "\n",
    "# Configuring the ultranest samplers\n",
    "sampler_w_frb = ultranest.ReactiveNestedSampler(\n",
    "    P_w_frb.param_names,\n",
    "    lambda params: LF_w_frb.log_likelihood(\n",
    "        dict(zip(P_w_frb.param_names, params)),\n",
    "        {\n",
    "            'FRB': (z_frb, DM_ext, sigma_ext)\n",
    "        }\n",
    "    ),\n",
    "    P_w_frb.prior_transform\n",
    ")\n",
    "\n",
    "\"\"\"sampler_w_sne = ultranest.ReactiveNestedSampler(\n",
    "    P_w_sne.param_names,\n",
    "    lambda params: LF_w_sne.log_likelihood(\n",
    "        dict(zip(P_w_sne.param_names, params))   \n",
    "    ),\n",
    "    P_w_sne.prior_transform\n",
    ")\"\"\"\n",
    "\n",
    "\"\"\"sampler_w_sne = ultranest.ReactiveNestedSampler(\n",
    "    P_w_sne.param_names,\n",
    "    lambda params: LF_w_sne.log_likelihood(\n",
    "        dict(zip(P_w_sne.param_names, params))\n",
    "    ),\n",
    "    P_w_sne.prior_transform\n",
    ")\"\"\"\n",
    "\n",
    "\n",
    "\"\"\"sampler_w_sne_frb = ultranest.ReactiveNestedSampler(\n",
    "    P_w_frb.param_names,\n",
    "    lambda params: LF_w_sne_frb.log_likelihood(\n",
    "        dict(zip(P_w_frb.param_names, params)),\n",
    "        {\n",
    "            'FRB': (z_frb, DM_ext, sigma_ext)\n",
    "        }\n",
    "    ),\n",
    "    P_w_frb.prior_transform\n",
    ")\"\"\""
   ]
  },
  {
   "cell_type": "code",
   "execution_count": null,
   "metadata": {},
   "outputs": [],
   "source": [
    "wCDM_frb = sampler_w_frb.run(min_num_live_points=400)\n",
    "sampler_w_frb.print_results()"
   ]
  },
  {
   "cell_type": "code",
   "execution_count": null,
   "metadata": {},
   "outputs": [],
   "source": [
    "wCDM_sne = sampler_w_sne.run(min_num_live_points=400)\n",
    "sampler_w_sne.print_results()"
   ]
  },
  {
   "cell_type": "code",
   "execution_count": null,
   "metadata": {},
   "outputs": [],
   "source": [
    "wCDM_sne_frb = sampler_w_sne_frb.run(min_num_live_points=400)\n",
    "sampler_w_sne_frb.print_results()"
   ]
  },
  {
   "cell_type": "code",
   "execution_count": null,
   "metadata": {},
   "outputs": [],
   "source": [
    "CPL_frb = sampler_CPL_frb.run(min_num_live_points=400)\n",
    "sampler_CPL_frb.print_results()"
   ]
  },
  {
   "cell_type": "code",
   "execution_count": null,
   "metadata": {},
   "outputs": [],
   "source": [
    "CPL_sne = sampler_CPL_sne.run(min_num_live_points=400)\n",
    "sampler_CPL_sne.print_results()"
   ]
  },
  {
   "cell_type": "code",
   "execution_count": null,
   "metadata": {},
   "outputs": [],
   "source": [
    "CPL_sne_frb = sampler_CPL_sne_frb.run(min_num_live_points=400)\n",
    "sampler_CPL_sne_frb.print_results()"
   ]
  },
  {
   "cell_type": "code",
   "execution_count": null,
   "metadata": {},
   "outputs": [],
   "source": [
    "from getdist import plots, MCSamples\n",
    "\n",
    "# Extraindo amostras dos resultados para frb\n",
    "samples1_frb = wCDM_frb['samples']\n",
    "samples2_frb = CPL_frb['samples']\n",
    "\n",
    "labels1 = ['H_0', '\\\\Omega_{b}h^2', '\\\\Omega_m', 'DM_{host,0}', '\\\\omega_0']\n",
    "names1 = P_w_frb.param_names\n",
    "mcsamples1_frb = MCSamples(samples=samples1_frb, names=names1, labels=labels1)\n",
    "\n",
    "labels2 = ['H_0', '\\\\Omega_{b}h^2', '\\\\Omega_m', 'DM_{host,0}', '\\\\omega_0', '\\\\omega_a']\n",
    "names2 = P_CPL_frb.param_names\n",
    "mcsamples2_frb = MCSamples(samples=samples2_frb, names=names2, labels=labels2)\n",
    "\n",
    "# Extraindo amostras dos resultados para sne\n",
    "samples1_sne = wCDM_sne['samples']\n",
    "samples2_sne = CPL_sne['samples']\n",
    "\n",
    "labels3 = ['H_0', '\\\\Omega_m', '\\\\omega_0']\n",
    "names3 = P_w_sne.param_names\n",
    "mcsamples1_sne = MCSamples(samples=samples1_sne, names=names3, labels=labels3)\n",
    "\n",
    "labels4 = ['H_0', '\\\\Omega_m', '\\\\omega_0', '\\\\omega_a']\n",
    "names4 = P_CPL_sne.param_names\n",
    "mcsamples2_sne = MCSamples(samples=samples2_sne, names=names4, labels=labels4)\n",
    "\n",
    "# Extraindo amostras dos resultados para sne+frb\n",
    "\n",
    "samples1_sne_frb = wCDM_sne_frb['samples']\n",
    "samples2_sne_frb = CPL_sne_frb['samples']\n",
    "\n",
    "mcsamples1_sne_frb = MCSamples(samples=samples1_sne_frb, names=names1, labels=labels1)\n",
    "mcsamples2_sne_frb = MCSamples(samples=samples2_sne_frb, names=names2, labels=labels2)\n",
    "\n"
   ]
  },
  {
   "cell_type": "code",
   "execution_count": 30,
   "metadata": {},
   "outputs": [],
   "source": [
    "import pandas as pd\n",
    "\n",
    "# Dicionário de amostras e nomes de arquivos\n",
    "amostras = {\n",
    "    \"samples1_frb\": samples1_frb,\n",
    "    \"samples2_frb\": samples2_frb,\n",
    "    \"samples1_sne\": samples1_sne,\n",
    "    \"samples2_sne\": samples2_sne,\n",
    "    \"samples1_sne_frb\": samples1_sne_frb,\n",
    "    \"samples2_sne_frb\": samples2_sne_frb,\n",
    "}\n",
    "\n",
    "# Salva cada conjunto de amostras em arquivos CSV\n",
    "for nome, dados in amostras.items():\n",
    "    df = pd.DataFrame(dados)\n",
    "    df.to_csv(f\"Samplers/{nome}.csv\", index=False)\n"
   ]
  },
  {
   "cell_type": "code",
   "execution_count": 7,
   "metadata": {},
   "outputs": [],
   "source": [
    "import pandas as pd\n",
    "df1_frb = pd.read_csv(\"Samplers/samples1_frb.csv\")\n",
    "df1_sne = pd.read_csv(\"Samplers/samples1_sne.csv\")\n",
    "df1_sne_frb = pd.read_csv(\"Samplers/samples1_sne_frb.csv\")\n",
    "df2_frb = pd.read_csv(\"Samplers/samples2_frb.csv\")\n",
    "df2_sne = pd.read_csv(\"Samplers/samples2_sne.csv\")\n",
    "df2_sne_frb = pd.read_csv(\"Samplers/samples2_sne_frb.csv\")"
   ]
  },
  {
   "cell_type": "code",
   "execution_count": null,
   "metadata": {},
   "outputs": [],
   "source": [
    "from getdist import plots, MCSamples\n",
    "\n",
    "# Extraindo amostras dos resultados para frb\n",
    "samples1_frb = df1_frb.values\n",
    "samples2_frb = df2_frb.values\n",
    "\n",
    "labels1 = ['H_0', '\\\\Omega_{b}h^2', '\\\\Omega_m', 'DM_{host,0}', '\\\\omega_0']\n",
    "names1 = P_w_frb.param_names\n",
    "mcsamples1_frb = MCSamples(samples=samples1_frb, names=names1, labels=labels1)\n",
    "\n",
    "labels2 = ['H_0', '\\\\Omega_{b}h^2', '\\\\Omega_m', 'DM_{host,0}', '\\\\omega_0', '\\\\omega_a']\n",
    "names2 = P_CPL_frb.param_names\n",
    "mcsamples2_frb = MCSamples(samples=samples2_frb, names=names2, labels=labels2)\n",
    "\n",
    "# Extraindo amostras dos resultados para sne\n",
    "samples1_sne = df1_sne.values\n",
    "samples2_sne = df2_sne.values\n",
    "\n",
    "labels3 = ['H_0', '\\\\Omega_m', '\\\\omega_0']\n",
    "names3 = P_w_sne.param_names\n",
    "mcsamples1_sne = MCSamples(samples=samples1_sne, names=names3, labels=labels3)\n",
    "\n",
    "labels4 = ['H_0', '\\\\Omega_m', '\\\\omega_0', '\\\\omega_a']\n",
    "names4 = P_CPL_sne.param_names\n",
    "mcsamples2_sne = MCSamples(samples=samples2_sne, names=names4, labels=labels4)\n",
    "\n",
    "# Extraindo amostras dos resultados para sne+frb\n",
    "\n",
    "samples1_sne_frb = df1_sne_frb.values\n",
    "samples2_sne_frb = df2_sne_frb.values\n",
    "\n",
    "mcsamples1_sne_frb = MCSamples(samples=samples1_sne_frb, names=names1, labels=labels1)\n",
    "mcsamples2_sne_frb = MCSamples(samples=samples2_sne_frb, names=names2, labels=labels2)\n",
    "\n"
   ]
  },
  {
   "cell_type": "code",
   "execution_count": 15,
   "metadata": {},
   "outputs": [],
   "source": [
    "# Plotando os Triangle plots\n",
    "g = plots.get_subplot_plotter()\n",
    "mcsamples1_frb.updateSettings({'smooth_scale_2D': 0.9, 'smooth_scale_1D': 0.9})\n",
    "mcsamples2_frb.updateSettings({'smooth_scale_2D': 0.9, 'smooth_scale_1D': 0.9})\n",
    "g.settings.num_plot_contours = 2\n",
    "g.triangle_plot([mcsamples1_frb, mcsamples2_frb], filled=True, contour_colors=['green', 'red'], \n",
    "                legend_labels=['$\\omega_0$CDM with FRB', '$\\omega_0\\omega_a$CDM with FRB'])\n",
    "g.export('Figuras/wCDM_CPL_frb.png', dpi=600)"
   ]
  },
  {
   "cell_type": "code",
   "execution_count": 21,
   "metadata": {},
   "outputs": [],
   "source": [
    "# Plotando os Triangle plots\n",
    "g = plots.get_subplot_plotter()\n",
    "#mcsamples1_frb.updateSettings({'smooth_scale_2D': 0.9, 'smooth_scale_1D': 0.9})\n",
    "mcsamples1_sne.updateSettings({'smooth_scale_2D': 0.9, 'smooth_scale_1D': 0.9})\n",
    "mcsamples1_sne_frb.updateSettings({'smooth_scale_2D': 0.9, 'smooth_scale_1D': 0.9})\n",
    "g.settings.num_plot_contours = 2\n",
    "g.triangle_plot([mcsamples1_sne_frb, mcsamples1_sne], \n",
    "                params=['H0', 'Omega_m', 'omega_0'] , filled=True, \n",
    "                contour_colors=['red', 'green'], \n",
    "                legend_labels=['$\\omega_0$CDM with SNe + FRB', '$\\omega_0$CDM with SNe'])\n",
    "g.export('Figuras/param_constant_cosmo.png', dpi=600)"
   ]
  },
  {
   "cell_type": "code",
   "execution_count": 22,
   "metadata": {},
   "outputs": [],
   "source": [
    "# Plotando os Triangle plots\n",
    "g = plots.get_subplot_plotter()\n",
    "mcsamples2_frb.updateSettings({'smooth_scale_2D': 0.9, 'smooth_scale_1D': 0.9})\n",
    "mcsamples2_sne.updateSettings({'smooth_scale_2D': 0.9, 'smooth_scale_1D': 0.9})\n",
    "mcsamples2_sne_frb.updateSettings({'smooth_scale_2D': 0.9, 'smooth_scale_1D': 0.9})\n",
    "g.settings.num_plot_contours = 2\n",
    "g.triangle_plot([mcsamples2_sne_frb, mcsamples2_sne], \n",
    "                params=['H0', 'Omega_m', 'omega_0', 'omega_a'] , filled=True, \n",
    "                contour_colors=['red', 'green'], \n",
    "                legend_labels=['$\\omega_0\\omega_a$CDM with SNe + FRB', '$\\omega_0\\omega_a$CDM with SNe'])\n",
    "g.export('Figuras/param_CPL_cosmo.png', dpi=600)"
   ]
  },
  {
   "cell_type": "markdown",
   "metadata": {},
   "source": [
    "## Model Comparison"
   ]
  },
  {
   "cell_type": "code",
   "execution_count": 22,
   "metadata": {},
   "outputs": [],
   "source": [
    "samples = {\n",
    "    \"Sample_frb\": {\n",
    "        \"results\": {\n",
    "            'wCDM': {'logz': wCDM_frb['logz'], 'num_params': 5},\n",
    "            'CPL': {'logz': CPL_frb['logz'], 'num_params': 6},\n",
    "        }\n",
    "    },\n",
    "    \"Sample_sne\": {\n",
    "        \"results\": {\n",
    "            'wCDM': {'logz': wCDM_sne['logz'], 'num_params': 5},\n",
    "            'CPL': {'logz': CPL_sne['logz'], 'num_params': 6},\n",
    "        }\n",
    "    },\n",
    "    \"Sample_sne_frb\": {\n",
    "        \"results\": {\n",
    "            'wCDM': {'logz': wCDM_sne_frb['logz'], 'num_params': 5},\n",
    "            'CPL': {'logz': CPL_sne_frb['logz'], 'num_params': 6},\n",
    "        }\n",
    "    }\n",
    "}"
   ]
  },
  {
   "cell_type": "code",
   "execution_count": 27,
   "metadata": {},
   "outputs": [],
   "source": [
    "from bayesian_analysis import ModelComparison\n",
    "\n",
    "comparison = ModelComparison(samples)\n",
    "comparison.run_comparisons(save_to_file='comparisons_output_frb+SNe.txt')"
   ]
  },
  {
   "cell_type": "code",
   "execution_count": 28,
   "metadata": {},
   "outputs": [],
   "source": [
    "from bayesian_analysis import SaveResults\n",
    "\n",
    "# Initialize the class with the desired output file\n",
    "results_saver = SaveResults(\"model_results.txt\")\n",
    "\n",
    "# Optional: Clear the file if you want to start fresh\n",
    "results_saver.reset_file()\n",
    "\n",
    "results_saver.save_to_txt(mcsamples1_frb, 'wCDM_frb')\n",
    "results_saver.save_to_txt(mcsamples2_frb, 'CPL_frb')\n",
    "results_saver.save_to_txt(mcsamples1_sne, 'wCDM_sne')\n",
    "results_saver.save_to_txt(mcsamples2_sne, 'CPL_sne')\n",
    "results_saver.save_to_txt(mcsamples1_sne_frb, 'wCDM_sne_frb')\n",
    "results_saver.save_to_txt(mcsamples2_sne_frb, 'CPL_sne_frb')\n"
   ]
  },
  {
   "cell_type": "code",
   "execution_count": null,
   "metadata": {},
   "outputs": [],
   "source": [
    "\"\"\"from ultranest.plot import PredictionBand\n",
    "from equations import DM_EXT_model\n",
    "import matplotlib.pyplot as plt\n",
    "import numpy as np\n",
    "\n",
    "plt.figure()\n",
    "plt.xlabel('$z$')\n",
    "plt.ylabel('$DM_{ext}(z)$')\n",
    "plt.errorbar(x=z_values_16, y=dm_ext_obs_16, fmt='o', alpha=0.6, color='red', label='16 FRBs', ms=2)\n",
    "\n",
    "z_test = np.linspace(0, 1, 100)\n",
    "\n",
    "band = PredictionBand(z_test)\n",
    "model_fit = DM_EXT_model()\n",
    "# go through the solutions\n",
    "for H_0, A, beta, omega_0, omega_a  in sampler_p2_16.results['samples']:\n",
    "    # compute for each time the y value\n",
    "    band.add(model_fit.DM_ext_th(z=z_test,\n",
    "        f_IGM=0.83,\n",
    "        model_type='constant',\n",
    "        Omega_b=None,  \n",
    "        Omega_m=None,     \n",
    "        H_today=H_0,\n",
    "        A=A,\n",
    "        beta=beta,\n",
    "        omega_0=omega_0,  \n",
    "        omega_a=omega_a,\n",
    "        cosmo_type='non_standard',\n",
    "        param_type='CPL'))\n",
    "\n",
    "band.line(color='k', linestyle='-', label='CPL parameterization', linewidth=1.5)\n",
    "# add 1 sigma quantile\n",
    "band.shade(color='green', alpha=0.3)\n",
    "# add wider quantile (0.01 .. 0.99)\n",
    "band.shade(q=0.49, color='green', alpha=0.2)\n",
    "\n",
    "plt.legend()\n",
    "plt.savefig('Figuras/DM_ext_bestfit_16.png', format='png', dpi=600)\"\"\""
   ]
  },
  {
   "cell_type": "code",
   "execution_count": null,
   "metadata": {},
   "outputs": [],
   "source": [
    "\"\"\"from ultranest.plot import PredictionBand\n",
    "from equations import DM_EXT_model\n",
    "import matplotlib.pyplot as plt\n",
    "import numpy as np\n",
    "\n",
    "plt.figure()\n",
    "plt.xlabel('$z$')\n",
    "plt.ylabel('$DM_{ext}(z)$')\n",
    "plt.errorbar(x=z_values_63, y=dm_ext_obs_63, fmt='o', alpha=0.6, color='red', label='63 FRBs', ms=2)\n",
    "\n",
    "z_test = np.linspace(0, 1.1, 100)\n",
    "\n",
    "band = PredictionBand(z_test)\n",
    "model_fit = DM_EXT_model()\n",
    "# go through the solutions\n",
    "for H_0, A, beta, omega_0  in sampler_constant_63.results['samples']:\n",
    "    # compute for each time the y value\n",
    "    band.add(model_fit.DM_ext_th(z=z_test,\n",
    "        f_IGM=0.83,\n",
    "        model_type='constant',\n",
    "        Omega_b=None,  \n",
    "        Omega_m=None,     \n",
    "        H_today=H_0,\n",
    "        A=A,\n",
    "        beta=beta,\n",
    "        omega_0=omega_0,\n",
    "        cosmo_type='non_standard',\n",
    "        param_type='constant')\n",
    "    )\n",
    "\n",
    "band.line(color='k', linestyle='-', label='Constant parameterization', linewidth=1.5)\n",
    "# add 1 sigma quantile\n",
    "band.shade(color='green', alpha=0.3)\n",
    "# add wider quantile (0.01 .. 0.99)\n",
    "band.shade(q=0.49, color='green', alpha=0.2)\n",
    "\n",
    "plt.legend()\n",
    "plt.savefig('Figuras/DM_ext_bestfit_63.png', format='png', dpi=600)\"\"\""
   ]
  }
 ],
 "metadata": {
  "kernelspec": {
   "display_name": "Python 3",
   "language": "python",
   "name": "python3"
  },
  "language_info": {
   "codemirror_mode": {
    "name": "ipython",
    "version": 3
   },
   "file_extension": ".py",
   "mimetype": "text/x-python",
   "name": "python",
   "nbconvert_exporter": "python",
   "pygments_lexer": "ipython3",
   "version": "3.12.7"
  }
 },
 "nbformat": 4,
 "nbformat_minor": 4
}
